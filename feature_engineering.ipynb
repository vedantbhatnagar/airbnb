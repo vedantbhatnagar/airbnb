{
 "cells": [
  {
   "cell_type": "code",
   "execution_count": 268,
   "id": "incorporate-gasoline",
   "metadata": {},
   "outputs": [],
   "source": [
    "import numpy as np\n",
    "import pandas as pd\n",
    "import datetime as dt"
   ]
  },
  {
   "cell_type": "code",
   "execution_count": 269,
   "id": "consecutive-wagner",
   "metadata": {},
   "outputs": [],
   "source": [
    "df = pd.read_csv('listings.csv.gz')"
   ]
  },
  {
   "cell_type": "code",
   "execution_count": 270,
   "id": "successful-wellington",
   "metadata": {},
   "outputs": [],
   "source": [
    "df2 = df.copy()"
   ]
  },
  {
   "cell_type": "code",
   "execution_count": 271,
   "id": "adolescent-preparation",
   "metadata": {},
   "outputs": [],
   "source": [
    "df_numeric = df.select_dtypes(include=['float64'])\n",
    "\n",
    "df_string = df.select_dtypes(include=['object'])\n",
    "\n",
    "df_int = df.select_dtypes(include=['int'])"
   ]
  },
  {
   "cell_type": "code",
   "execution_count": 272,
   "id": "distributed-convenience",
   "metadata": {},
   "outputs": [],
   "source": [
    "potential_important_string = ['host_since', 'host_location', 'host_response_rate', 'host_acceptance_rate', 'host_is_superhost',\\\n",
    "                             'host_identity_verified', 'neighbourhood', 'neighbourhood_cleansed',\\\n",
    "                             'property_type', 'room_type', 'bathrooms_text', 'instant_bookable', 'last_review']"
   ]
  },
  {
   "cell_type": "code",
   "execution_count": 273,
   "id": "transsexual-scoop",
   "metadata": {},
   "outputs": [
    {
     "data": {
      "text/html": [
       "<div>\n",
       "<style scoped>\n",
       "    .dataframe tbody tr th:only-of-type {\n",
       "        vertical-align: middle;\n",
       "    }\n",
       "\n",
       "    .dataframe tbody tr th {\n",
       "        vertical-align: top;\n",
       "    }\n",
       "\n",
       "    .dataframe thead th {\n",
       "        text-align: right;\n",
       "    }\n",
       "</style>\n",
       "<table border=\"1\" class=\"dataframe\">\n",
       "  <thead>\n",
       "    <tr style=\"text-align: right;\">\n",
       "      <th></th>\n",
       "      <th>host_since</th>\n",
       "      <th>host_location</th>\n",
       "      <th>host_response_rate</th>\n",
       "      <th>host_acceptance_rate</th>\n",
       "      <th>host_is_superhost</th>\n",
       "      <th>host_identity_verified</th>\n",
       "      <th>neighbourhood</th>\n",
       "      <th>neighbourhood_cleansed</th>\n",
       "      <th>property_type</th>\n",
       "      <th>room_type</th>\n",
       "      <th>bathrooms_text</th>\n",
       "      <th>instant_bookable</th>\n",
       "      <th>last_review</th>\n",
       "    </tr>\n",
       "  </thead>\n",
       "  <tbody>\n",
       "    <tr>\n",
       "      <th>count</th>\n",
       "      <td>18228</td>\n",
       "      <td>18199</td>\n",
       "      <td>3937</td>\n",
       "      <td>7796</td>\n",
       "      <td>18228</td>\n",
       "      <td>18228</td>\n",
       "      <td>12023</td>\n",
       "      <td>18291</td>\n",
       "      <td>18291</td>\n",
       "      <td>18291</td>\n",
       "      <td>18269</td>\n",
       "      <td>18291</td>\n",
       "      <td>15902</td>\n",
       "    </tr>\n",
       "    <tr>\n",
       "      <th>unique</th>\n",
       "      <td>3268</td>\n",
       "      <td>534</td>\n",
       "      <td>50</td>\n",
       "      <td>89</td>\n",
       "      <td>2</td>\n",
       "      <td>2</td>\n",
       "      <td>67</td>\n",
       "      <td>22</td>\n",
       "      <td>65</td>\n",
       "      <td>4</td>\n",
       "      <td>27</td>\n",
       "      <td>2</td>\n",
       "      <td>1833</td>\n",
       "    </tr>\n",
       "    <tr>\n",
       "      <th>top</th>\n",
       "      <td>2016-04-05</td>\n",
       "      <td>Amsterdam, North Holland, Netherlands</td>\n",
       "      <td>100%</td>\n",
       "      <td>100%</td>\n",
       "      <td>f</td>\n",
       "      <td>t</td>\n",
       "      <td>Amsterdam, Noord-Holland, Netherlands</td>\n",
       "      <td>De Baarsjes - Oud-West</td>\n",
       "      <td>Entire apartment</td>\n",
       "      <td>Entire home/apt</td>\n",
       "      <td>1 bath</td>\n",
       "      <td>f</td>\n",
       "      <td>2020-01-02</td>\n",
       "    </tr>\n",
       "    <tr>\n",
       "      <th>freq</th>\n",
       "      <td>88</td>\n",
       "      <td>10046</td>\n",
       "      <td>2794</td>\n",
       "      <td>3638</td>\n",
       "      <td>15849</td>\n",
       "      <td>11918</td>\n",
       "      <td>9534</td>\n",
       "      <td>3044</td>\n",
       "      <td>11393</td>\n",
       "      <td>14283</td>\n",
       "      <td>10677</td>\n",
       "      <td>13914</td>\n",
       "      <td>259</td>\n",
       "    </tr>\n",
       "  </tbody>\n",
       "</table>\n",
       "</div>"
      ],
      "text/plain": [
       "        host_since                          host_location host_response_rate  \\\n",
       "count        18228                                  18199               3937   \n",
       "unique        3268                                    534                 50   \n",
       "top     2016-04-05  Amsterdam, North Holland, Netherlands               100%   \n",
       "freq            88                                  10046               2794   \n",
       "\n",
       "       host_acceptance_rate host_is_superhost host_identity_verified  \\\n",
       "count                  7796             18228                  18228   \n",
       "unique                   89                 2                      2   \n",
       "top                    100%                 f                      t   \n",
       "freq                   3638             15849                  11918   \n",
       "\n",
       "                                neighbourhood  neighbourhood_cleansed  \\\n",
       "count                                   12023                   18291   \n",
       "unique                                     67                      22   \n",
       "top     Amsterdam, Noord-Holland, Netherlands  De Baarsjes - Oud-West   \n",
       "freq                                     9534                    3044   \n",
       "\n",
       "           property_type        room_type bathrooms_text instant_bookable  \\\n",
       "count              18291            18291          18269            18291   \n",
       "unique                65                4             27                2   \n",
       "top     Entire apartment  Entire home/apt         1 bath                f   \n",
       "freq               11393            14283          10677            13914   \n",
       "\n",
       "       last_review  \n",
       "count        15902  \n",
       "unique        1833  \n",
       "top     2020-01-02  \n",
       "freq           259  "
      ]
     },
     "execution_count": 273,
     "metadata": {},
     "output_type": "execute_result"
    }
   ],
   "source": [
    "df_string[potential_important_string].describe()"
   ]
  },
  {
   "cell_type": "code",
   "execution_count": 274,
   "id": "specialized-framework",
   "metadata": {},
   "outputs": [],
   "source": [
    "drop_list_numeric = ['neighbourhood_group_cleansed', 'bathrooms', 'calendar_updated', 'license', 'latitude', 'longitude', 'id',\\\n",
    "             'scrape_id', 'host_id']\n",
    "drop_list_string = ['listing_url', 'last_scraped', 'name', 'picture_url', 'host_url', 'host_name', 'host_thumbnail_url', \\\n",
    "                    'host_picture_url']\n",
    "drop_maybe_string = ['description', 'host_about', 'neighborhood_overview', 'host_location', 'host_response_time', \\\n",
    "                'host_neighborhood', 'host_verifications', 'host_has_profile_pic', 'amenities', 'has_availability',\\\n",
    "                'first_review', 'host_location', 'neighbourhood', 'property_type', 'last_review']"
   ]
  },
  {
   "cell_type": "code",
   "execution_count": 275,
   "id": "welsh-display",
   "metadata": {},
   "outputs": [],
   "source": [
    "# df2.drop(columns = drop_list, axis = 1, inplace = True)\n",
    "# df2.shape"
   ]
  },
  {
   "cell_type": "code",
   "execution_count": 276,
   "id": "integral-blowing",
   "metadata": {},
   "outputs": [],
   "source": [
    "df2.dropna(subset = ['host_since', 'host_is_superhost', 'host_identity_verified'], inplace = True)"
   ]
  },
  {
   "cell_type": "code",
   "execution_count": 277,
   "id": "sapphire-effect",
   "metadata": {},
   "outputs": [],
   "source": [
    "# cleaning and engineering host_since\n",
    "df2['host_since'] = pd.to_datetime(df2['host_since'])\n",
    "df2['months_active'] = (dt.datetime.today() - df2['host_since'])/np.timedelta64(1, 'M')\n",
    "df2['months_active'] = df2['months_active'].astype(int)"
   ]
  },
  {
   "cell_type": "code",
   "execution_count": 278,
   "id": "married-grace",
   "metadata": {},
   "outputs": [
    {
     "data": {
      "text/plain": [
       "Amsterdam, North Holland, Netherlands        10046\n",
       "Amsterdam, North Holland, The Netherlands     3515\n",
       "NL                                            1549\n",
       "Amsterdam, Noord-Holland, The Netherlands     1153\n",
       "Netherlands                                    520\n",
       "                                             ...  \n",
       "Athens, Attica, Greece                           1\n",
       "Jons, Auvergne-Rhône-Alpes, France               1\n",
       "Bennekom, Gelderland, Netherlands                1\n",
       "Heerenveen, Friesland, Netherlands               1\n",
       "Wellington, Wellington, New Zealand              1\n",
       "Name: host_location, Length: 534, dtype: int64"
      ]
     },
     "execution_count": 278,
     "metadata": {},
     "output_type": "execute_result"
    }
   ],
   "source": [
    "df2['host_location'].value_counts()\n",
    "# too many entries to clean, ignore for now"
   ]
  },
  {
   "cell_type": "code",
   "execution_count": 279,
   "id": "artistic-romantic",
   "metadata": {},
   "outputs": [
    {
     "name": "stdout",
     "output_type": "stream",
     "text": [
      "count    3937.000000\n",
      "mean       86.042418\n",
      "std        28.633557\n",
      "min         0.000000\n",
      "25%        89.000000\n",
      "50%       100.000000\n",
      "75%       100.000000\n",
      "max       100.000000\n",
      "Name: host_response_rate, dtype: float64\n"
     ]
    }
   ],
   "source": [
    "df2['host_response_rate'] = df2['host_response_rate'].str.replace('%','')\n",
    "df2['host_response_rate'] = pd.to_numeric(df2['host_response_rate'])\n",
    "print(df2['host_response_rate'].describe())\n",
    "# Given most of the values being missing, we will replace missing values with mean\n",
    "df2['host_response_rate'].fillna(df2['host_response_rate'].mean(), inplace = True)\n",
    "# print(df2['host_response_rate'].describe())"
   ]
  },
  {
   "cell_type": "code",
   "execution_count": 280,
   "id": "exciting-breathing",
   "metadata": {},
   "outputs": [
    {
     "name": "stdout",
     "output_type": "stream",
     "text": [
      "count    7796.000000\n",
      "mean       77.234864\n",
      "std        33.575089\n",
      "min         0.000000\n",
      "25%        63.000000\n",
      "50%        98.000000\n",
      "75%       100.000000\n",
      "max       100.000000\n",
      "Name: host_acceptance_rate, dtype: float64\n",
      "count    18228.000000\n",
      "mean        77.234864\n",
      "std         21.956729\n",
      "min          0.000000\n",
      "25%         77.234864\n",
      "50%         77.234864\n",
      "75%         93.000000\n",
      "max        100.000000\n",
      "Name: host_acceptance_rate, dtype: float64\n"
     ]
    }
   ],
   "source": [
    "df2['host_acceptance_rate'] = df2['host_acceptance_rate'].str.replace('%','')\n",
    "df2['host_acceptance_rate'] = pd.to_numeric(df2['host_acceptance_rate'])\n",
    "print(df2['host_acceptance_rate'].describe())\n",
    "# Given most of the values being missing, we will replace missing values with mean\n",
    "df2['host_acceptance_rate'].fillna(df2['host_acceptance_rate'].mean(), inplace = True)\n",
    "print(df2['host_acceptance_rate'].describe())"
   ]
  },
  {
   "cell_type": "code",
   "execution_count": 281,
   "id": "architectural-stomach",
   "metadata": {},
   "outputs": [
    {
     "name": "stdout",
     "output_type": "stream",
     "text": [
      "f    15849\n",
      "t     2379\n",
      "Name: host_is_superhost, dtype: int64\n"
     ]
    },
    {
     "data": {
      "text/plain": [
       "0    15849\n",
       "1     2379\n",
       "Name: host_is_superhost, dtype: int64"
      ]
     },
     "execution_count": 281,
     "metadata": {},
     "output_type": "execute_result"
    }
   ],
   "source": [
    "print(df2['host_is_superhost'].value_counts())\n",
    "# only true false values, convert them to 0 and 1 categorical\n",
    "df2['host_is_superhost'].replace({'t': 1, 'f': 0}, inplace = True)\n",
    "df2['host_is_superhost'].value_counts()"
   ]
  },
  {
   "cell_type": "code",
   "execution_count": 282,
   "id": "graduate-boulder",
   "metadata": {},
   "outputs": [
    {
     "name": "stdout",
     "output_type": "stream",
     "text": [
      "t    11918\n",
      "f     6310\n",
      "Name: host_identity_verified, dtype: int64\n"
     ]
    },
    {
     "data": {
      "text/plain": [
       "1    11918\n",
       "0     6310\n",
       "Name: host_identity_verified, dtype: int64"
      ]
     },
     "execution_count": 282,
     "metadata": {},
     "output_type": "execute_result"
    }
   ],
   "source": [
    "print(df2['host_identity_verified'].value_counts())\n",
    "# only true false values, convert them to 0 and 1 categorical\n",
    "df2['host_identity_verified'].replace({'t': 1, 'f': 0}, inplace = True)\n",
    "df2['host_identity_verified'].value_counts()"
   ]
  },
  {
   "cell_type": "code",
   "execution_count": 283,
   "id": "liable-destruction",
   "metadata": {},
   "outputs": [
    {
     "data": {
      "text/plain": [
       "Amsterdam, Noord-Holland, Netherlands             9487\n",
       "Amsterdam, North Holland, Netherlands             1483\n",
       "Amsterdam, NH, Netherlands                         697\n",
       "Amsterdam, Netherlands                             110\n",
       "Amsterdam-Zuidoost, Noord-Holland, Netherlands      57\n",
       "                                                  ... \n",
       "Amstelveen, NH, Netherlands                          1\n",
       "Diemen, Noord-Holland, Netherlands                   1\n",
       "Amsterdam, SN, Netherlands                           1\n",
       "Haarlem, Noord-Holland, Netherlands                  1\n",
       "Amsterdam, VX, Netherlands                           1\n",
       "Name: neighbourhood, Length: 67, dtype: int64"
      ]
     },
     "execution_count": 283,
     "metadata": {},
     "output_type": "execute_result"
    }
   ],
   "source": [
    "df2['neighbourhood'].value_counts()\n",
    "# too many values, ignore for now"
   ]
  },
  {
   "cell_type": "code",
   "execution_count": 284,
   "id": "grave-karma",
   "metadata": {},
   "outputs": [
    {
     "name": "stdout",
     "output_type": "stream",
     "text": [
      "De Baarsjes - Oud-West                    3029\n",
      "De Pijp - Rivierenbuurt                   2262\n",
      "Centrum-West                              1994\n",
      "Centrum-Oost                              1554\n",
      "Westerpark                                1392\n",
      "Zuid                                      1306\n",
      "Oud-Oost                                  1177\n",
      "Bos en Lommer                             1042\n",
      "Oostelijk Havengebied - Indische Buurt     869\n",
      "Oud-Noord                                  586\n",
      "Watergraafsmeer                            525\n",
      "IJburg - Zeeburgereiland                   423\n",
      "Slotervaart                                410\n",
      "Noord-West                                 369\n",
      "Noord-Oost                                 254\n",
      "Buitenveldert - Zuidas                     252\n",
      "Geuzenveld - Slotermeer                    214\n",
      "De Aker - Nieuw Sloten                     126\n",
      "Osdorp                                     124\n",
      "Gaasperdam - Driemond                      121\n",
      "Bijlmer-Centrum                            103\n",
      "Bijlmer-Oost                                96\n",
      "Name: neighbourhood_cleansed, dtype: int64\n"
     ]
    },
    {
     "data": {
      "text/plain": [
       "(18228, 96)"
      ]
     },
     "execution_count": 284,
     "metadata": {},
     "output_type": "execute_result"
    }
   ],
   "source": [
    "print(df2['neighbourhood_cleansed'].value_counts())\n",
    "# manageable number of values, will do one hot encoding\n",
    "neighbourhood_dummies = pd.get_dummies(df2['neighbourhood_cleansed'], prefix = 'Neighbourhood', drop_first=True)\n",
    "df2_dummies = pd.concat([df2, neighbourhood_dummies], axis=1)\n",
    "df2_dummies.shape"
   ]
  },
  {
   "cell_type": "code",
   "execution_count": 285,
   "id": "naval-short",
   "metadata": {},
   "outputs": [
    {
     "data": {
      "text/plain": [
       "Entire apartment                     11335\n",
       "Private room in apartment             2217\n",
       "Entire house                          1195\n",
       "Entire townhouse                       472\n",
       "Private room in bed and breakfast      344\n",
       "                                     ...  \n",
       "Cave                                     1\n",
       "Room in casa particular                  1\n",
       "Earth house                              1\n",
       "Tipi                                     1\n",
       "Bus                                      1\n",
       "Name: property_type, Length: 65, dtype: int64"
      ]
     },
     "execution_count": 285,
     "metadata": {},
     "output_type": "execute_result"
    }
   ],
   "source": [
    "df2_dummies['property_type'].value_counts()\n",
    "#too many values, ignore"
   ]
  },
  {
   "cell_type": "code",
   "execution_count": 286,
   "id": "naked-heather",
   "metadata": {},
   "outputs": [
    {
     "name": "stdout",
     "output_type": "stream",
     "text": [
      "Entire home/apt    14221\n",
      "Private room        3830\n",
      "Hotel room           127\n",
      "Shared room           50\n",
      "Name: room_type, dtype: int64\n"
     ]
    },
    {
     "data": {
      "text/plain": [
       "(18228, 99)"
      ]
     },
     "execution_count": 286,
     "metadata": {},
     "output_type": "execute_result"
    }
   ],
   "source": [
    "print(df2_dummies['room_type'].value_counts())\n",
    "# manageable number of values, will do one hot encoding\n",
    "room_dummies = pd.get_dummies(df2_dummies['room_type'], prefix = 'room_type', drop_first=True)\n",
    "df2_dummies = pd.concat([df2_dummies, room_dummies], axis=1)\n",
    "df2_dummies.shape"
   ]
  },
  {
   "cell_type": "code",
   "execution_count": 287,
   "id": "transparent-preservation",
   "metadata": {},
   "outputs": [
    {
     "name": "stdout",
     "output_type": "stream",
     "text": [
      "1 bath               10637\n",
      "1.5 baths             3452\n",
      "1 shared bath         1210\n",
      "1 private bath        1043\n",
      "2 baths                800\n",
      "1.5 shared baths       466\n",
      "2.5 baths              239\n",
      "3 baths                 96\n",
      "3.5 baths               43\n",
      "Half-bath               39\n",
      "0 baths                 38\n",
      "Shared half-bath        32\n",
      "2 shared baths          29\n",
      "0 shared baths          15\n",
      "4 baths                 13\n",
      "Private half-bath       11\n",
      "3 shared baths          10\n",
      "3.5 shared baths         8\n",
      "2.5 shared baths         6\n",
      "4 shared baths           5\n",
      "4.5 baths                4\n",
      "8 baths                  3\n",
      "5 baths                  2\n",
      "6 baths                  2\n",
      "12 baths                 1\n",
      "13 baths                 1\n",
      "5.5 baths                1\n",
      "Name: bathrooms_text, dtype: int64\n"
     ]
    },
    {
     "data": {
      "text/plain": [
       "(18228, 125)"
      ]
     },
     "execution_count": 287,
     "metadata": {},
     "output_type": "execute_result"
    }
   ],
   "source": [
    "print(df2_dummies['bathrooms_text'].value_counts())\n",
    "# manageable number of values, will do one hot encoding\n",
    "bathroom_dummies = pd.get_dummies(df2_dummies['bathrooms_text'], prefix = 'bathrooms', drop_first=True)\n",
    "df2_dummies = pd.concat([df2_dummies, bathroom_dummies], axis=1)\n",
    "df2_dummies.shape"
   ]
  },
  {
   "cell_type": "code",
   "execution_count": 288,
   "id": "favorite-prophet",
   "metadata": {},
   "outputs": [
    {
     "name": "stdout",
     "output_type": "stream",
     "text": [
      "f    13854\n",
      "t     4374\n",
      "Name: instant_bookable, dtype: int64\n"
     ]
    },
    {
     "data": {
      "text/plain": [
       "0    13854\n",
       "1     4374\n",
       "Name: instant_bookable, dtype: int64"
      ]
     },
     "execution_count": 288,
     "metadata": {},
     "output_type": "execute_result"
    }
   ],
   "source": [
    "print(df2_dummies['instant_bookable'].value_counts())\n",
    "# manageable number of values, will do one hot encoding\n",
    "df2_dummies['instant_bookable'].replace({'t': 1, 'f': 0}, inplace = True)\n",
    "df2_dummies['instant_bookable'].value_counts()"
   ]
  },
  {
   "cell_type": "code",
   "execution_count": 289,
   "id": "human-climate",
   "metadata": {},
   "outputs": [],
   "source": [
    "# df2_dummies['last_review'] = pd.to_datetime(df2_dummies['last_review'])\n",
    "# df2_dummies['last_review'] = (dt.datetime.today() - df2_dummies['last_review'])/np.timedelta64(1, 'M')\n",
    "# # df2_dummies['last_review'] = df2_dummies['last_review'].astype(int)"
   ]
  },
  {
   "cell_type": "code",
   "execution_count": 290,
   "id": "desperate-overview",
   "metadata": {},
   "outputs": [],
   "source": [
    "# df2_dummies['last_review'] = pd.to_datetime(df2_dummies['last_review'])\n",
    "# print(df2_dummies['last_review'].isnull().sum())\n",
    "# # print(df2_dummies['last_review'].describe())\n",
    "# # there are a lot of null values, so we will not remove them as we will lose data. We can instead replace missing values with\n",
    "# # the most frequent observation which is 2020-01-02 (258/15845 % frequency)\n",
    "# df2_dummies['last_review'].fillna(df2_dummies['last_review'].mode().values, inplace = True)\n",
    "# # df2_dummies['last_review'].fillna(100, inplace = True)\n",
    "# df2_dummies['last_review'].describe()\n",
    "# ignoring last_review for the moment"
   ]
  },
  {
   "cell_type": "code",
   "execution_count": 291,
   "id": "worth-southwest",
   "metadata": {},
   "outputs": [],
   "source": [
    "drop_list_numeric = ['neighbourhood_group_cleansed', 'bathrooms', 'calendar_updated', 'license', 'latitude', 'longitude', 'id',\\\n",
    "             'scrape_id', 'host_id']\n",
    "drop_list_string = ['listing_url', 'last_scraped', 'name', 'picture_url', 'host_url', 'host_name', 'host_thumbnail_url', \\\n",
    "                    'host_picture_url']\n",
    "drop_maybe_string = ['description', 'host_about', 'neighborhood_overview', 'host_location', 'host_response_time', \\\n",
    "                'host_neighbourhood', 'host_verifications', 'host_has_profile_pic', 'amenities', 'has_availability',\\\n",
    "                'first_review', 'host_location', 'neighbourhood', 'property_type', 'last_review']"
   ]
  },
  {
   "cell_type": "code",
   "execution_count": 292,
   "id": "referenced-bryan",
   "metadata": {},
   "outputs": [
    {
     "name": "stdout",
     "output_type": "stream",
     "text": [
      "(18228, 125)\n",
      "(18228, 116)\n",
      "(18228, 108)\n",
      "(18228, 94)\n"
     ]
    }
   ],
   "source": [
    "print(df2_dummies.shape)\n",
    "df2_dummies.drop(columns = drop_list_numeric, axis = 1, inplace = True)\n",
    "print(df2_dummies.shape)\n",
    "df2_dummies.drop(columns = drop_list_string, axis = 1, inplace = True)\n",
    "print(df2_dummies.shape)\n",
    "df2_dummies.drop(columns = drop_maybe_string, axis = 1, inplace = True)\n",
    "print(df2_dummies.shape)"
   ]
  },
  {
   "cell_type": "code",
   "execution_count": 293,
   "id": "minimal-argument",
   "metadata": {},
   "outputs": [
    {
     "name": "stderr",
     "output_type": "stream",
     "text": [
      "/opt/conda/lib/python3.7/site-packages/ipykernel_launcher.py:1: FutureWarning: The default value of regex will change from True to False in a future version. In addition, single character regular expressions will*not* be treated as literal strings when regex=True.\n",
      "  \"\"\"Entry point for launching an IPython kernel.\n"
     ]
    }
   ],
   "source": [
    "df2_dummies['price'] = df2_dummies['price'].str.replace('$','')\n",
    "df2_dummies['price'] = df2_dummies['price'].str.replace(',','')\n",
    "df2_dummies['price'] = pd.to_numeric(df2_dummies['price'])\n",
    "# df2_dummies['price']"
   ]
  },
  {
   "cell_type": "code",
   "execution_count": 294,
   "id": "colored-comfort",
   "metadata": {},
   "outputs": [
    {
     "data": {
      "text/plain": [
       "(14721, 94)"
      ]
     },
     "execution_count": 294,
     "metadata": {},
     "output_type": "execute_result"
    }
   ],
   "source": [
    "df2_dummies.dropna(inplace = True)\n",
    "df2_dummies.shape"
   ]
  },
  {
   "cell_type": "code",
   "execution_count": 295,
   "id": "extra-denmark",
   "metadata": {},
   "outputs": [
    {
     "name": "stdout",
     "output_type": "stream",
     "text": [
      "(14721, 93)\n"
     ]
    }
   ],
   "source": [
    "X = df2_dummies.drop('price', axis = 1)\n",
    "y = df2_dummies['price']\n",
    "print(X.shape)"
   ]
  },
  {
   "cell_type": "code",
   "execution_count": 298,
   "id": "verified-timeline",
   "metadata": {},
   "outputs": [
    {
     "name": "stdout",
     "output_type": "stream",
     "text": [
      "host_since                     datetime64[ns]\n",
      "host_response_rate                    float64\n",
      "host_acceptance_rate                  float64\n",
      "host_is_superhost                       int64\n",
      "host_listings_count                   float64\n",
      "                                    ...      \n",
      "bathrooms_6 baths                       uint8\n",
      "bathrooms_8 baths                       uint8\n",
      "bathrooms_Half-bath                     uint8\n",
      "bathrooms_Private half-bath             uint8\n",
      "bathrooms_Shared half-bath              uint8\n",
      "Length: 93, dtype: object\n"
     ]
    }
   ],
   "source": [
    "print(X.dtypes)"
   ]
  },
  {
   "cell_type": "code",
   "execution_count": 296,
   "id": "expired-bullet",
   "metadata": {},
   "outputs": [
    {
     "ename": "TypeError",
     "evalue": "invalid type promotion",
     "output_type": "error",
     "traceback": [
      "\u001b[0;31m---------------------------------------------------------------------------\u001b[0m",
      "\u001b[0;31mTypeError\u001b[0m                                 Traceback (most recent call last)",
      "\u001b[0;32m<ipython-input-296-c374fa73d387>\u001b[0m in \u001b[0;36m<module>\u001b[0;34m\u001b[0m\n\u001b[1;32m      6\u001b[0m \u001b[0;34m\u001b[0m\u001b[0m\n\u001b[1;32m      7\u001b[0m \u001b[0;31m# fit the regressor with X and Y data\u001b[0m\u001b[0;34m\u001b[0m\u001b[0;34m\u001b[0m\u001b[0;34m\u001b[0m\u001b[0m\n\u001b[0;32m----> 8\u001b[0;31m \u001b[0mregressor\u001b[0m\u001b[0;34m.\u001b[0m\u001b[0mfit\u001b[0m\u001b[0;34m(\u001b[0m\u001b[0mX\u001b[0m\u001b[0;34m,\u001b[0m \u001b[0my\u001b[0m\u001b[0;34m)\u001b[0m\u001b[0;34m\u001b[0m\u001b[0;34m\u001b[0m\u001b[0m\n\u001b[0m",
      "\u001b[0;32m/opt/conda/lib/python3.7/site-packages/sklearn/tree/_classes.py\u001b[0m in \u001b[0;36mfit\u001b[0;34m(self, X, y, sample_weight, check_input, X_idx_sorted)\u001b[0m\n\u001b[1;32m   1249\u001b[0m             \u001b[0msample_weight\u001b[0m\u001b[0;34m=\u001b[0m\u001b[0msample_weight\u001b[0m\u001b[0;34m,\u001b[0m\u001b[0;34m\u001b[0m\u001b[0;34m\u001b[0m\u001b[0m\n\u001b[1;32m   1250\u001b[0m             \u001b[0mcheck_input\u001b[0m\u001b[0;34m=\u001b[0m\u001b[0mcheck_input\u001b[0m\u001b[0;34m,\u001b[0m\u001b[0;34m\u001b[0m\u001b[0;34m\u001b[0m\u001b[0m\n\u001b[0;32m-> 1251\u001b[0;31m             X_idx_sorted=X_idx_sorted)\n\u001b[0m\u001b[1;32m   1252\u001b[0m         \u001b[0;32mreturn\u001b[0m \u001b[0mself\u001b[0m\u001b[0;34m\u001b[0m\u001b[0;34m\u001b[0m\u001b[0m\n\u001b[1;32m   1253\u001b[0m \u001b[0;34m\u001b[0m\u001b[0m\n",
      "\u001b[0;32m/opt/conda/lib/python3.7/site-packages/sklearn/tree/_classes.py\u001b[0m in \u001b[0;36mfit\u001b[0;34m(self, X, y, sample_weight, check_input, X_idx_sorted)\u001b[0m\n\u001b[1;32m    156\u001b[0m             X, y = self._validate_data(X, y,\n\u001b[1;32m    157\u001b[0m                                        validate_separately=(check_X_params,\n\u001b[0;32m--> 158\u001b[0;31m                                                             check_y_params))\n\u001b[0m\u001b[1;32m    159\u001b[0m             \u001b[0;32mif\u001b[0m \u001b[0missparse\u001b[0m\u001b[0;34m(\u001b[0m\u001b[0mX\u001b[0m\u001b[0;34m)\u001b[0m\u001b[0;34m:\u001b[0m\u001b[0;34m\u001b[0m\u001b[0;34m\u001b[0m\u001b[0m\n\u001b[1;32m    160\u001b[0m                 \u001b[0mX\u001b[0m\u001b[0;34m.\u001b[0m\u001b[0msort_indices\u001b[0m\u001b[0;34m(\u001b[0m\u001b[0;34m)\u001b[0m\u001b[0;34m\u001b[0m\u001b[0;34m\u001b[0m\u001b[0m\n",
      "\u001b[0;32m/opt/conda/lib/python3.7/site-packages/sklearn/base.py\u001b[0m in \u001b[0;36m_validate_data\u001b[0;34m(self, X, y, reset, validate_separately, **check_params)\u001b[0m\n\u001b[1;32m    428\u001b[0m                 \u001b[0;31m# :(\u001b[0m\u001b[0;34m\u001b[0m\u001b[0;34m\u001b[0m\u001b[0;34m\u001b[0m\u001b[0m\n\u001b[1;32m    429\u001b[0m                 \u001b[0mcheck_X_params\u001b[0m\u001b[0;34m,\u001b[0m \u001b[0mcheck_y_params\u001b[0m \u001b[0;34m=\u001b[0m \u001b[0mvalidate_separately\u001b[0m\u001b[0;34m\u001b[0m\u001b[0;34m\u001b[0m\u001b[0m\n\u001b[0;32m--> 430\u001b[0;31m                 \u001b[0mX\u001b[0m \u001b[0;34m=\u001b[0m \u001b[0mcheck_array\u001b[0m\u001b[0;34m(\u001b[0m\u001b[0mX\u001b[0m\u001b[0;34m,\u001b[0m \u001b[0;34m**\u001b[0m\u001b[0mcheck_X_params\u001b[0m\u001b[0;34m)\u001b[0m\u001b[0;34m\u001b[0m\u001b[0;34m\u001b[0m\u001b[0m\n\u001b[0m\u001b[1;32m    431\u001b[0m                 \u001b[0my\u001b[0m \u001b[0;34m=\u001b[0m \u001b[0mcheck_array\u001b[0m\u001b[0;34m(\u001b[0m\u001b[0my\u001b[0m\u001b[0;34m,\u001b[0m \u001b[0;34m**\u001b[0m\u001b[0mcheck_y_params\u001b[0m\u001b[0;34m)\u001b[0m\u001b[0;34m\u001b[0m\u001b[0;34m\u001b[0m\u001b[0m\n\u001b[1;32m    432\u001b[0m             \u001b[0;32melse\u001b[0m\u001b[0;34m:\u001b[0m\u001b[0;34m\u001b[0m\u001b[0;34m\u001b[0m\u001b[0m\n",
      "\u001b[0;32m/opt/conda/lib/python3.7/site-packages/sklearn/utils/validation.py\u001b[0m in \u001b[0;36minner_f\u001b[0;34m(*args, **kwargs)\u001b[0m\n\u001b[1;32m     61\u001b[0m             \u001b[0mextra_args\u001b[0m \u001b[0;34m=\u001b[0m \u001b[0mlen\u001b[0m\u001b[0;34m(\u001b[0m\u001b[0margs\u001b[0m\u001b[0;34m)\u001b[0m \u001b[0;34m-\u001b[0m \u001b[0mlen\u001b[0m\u001b[0;34m(\u001b[0m\u001b[0mall_args\u001b[0m\u001b[0;34m)\u001b[0m\u001b[0;34m\u001b[0m\u001b[0;34m\u001b[0m\u001b[0m\n\u001b[1;32m     62\u001b[0m             \u001b[0;32mif\u001b[0m \u001b[0mextra_args\u001b[0m \u001b[0;34m<=\u001b[0m \u001b[0;36m0\u001b[0m\u001b[0;34m:\u001b[0m\u001b[0;34m\u001b[0m\u001b[0;34m\u001b[0m\u001b[0m\n\u001b[0;32m---> 63\u001b[0;31m                 \u001b[0;32mreturn\u001b[0m \u001b[0mf\u001b[0m\u001b[0;34m(\u001b[0m\u001b[0;34m*\u001b[0m\u001b[0margs\u001b[0m\u001b[0;34m,\u001b[0m \u001b[0;34m**\u001b[0m\u001b[0mkwargs\u001b[0m\u001b[0;34m)\u001b[0m\u001b[0;34m\u001b[0m\u001b[0;34m\u001b[0m\u001b[0m\n\u001b[0m\u001b[1;32m     64\u001b[0m \u001b[0;34m\u001b[0m\u001b[0m\n\u001b[1;32m     65\u001b[0m             \u001b[0;31m# extra_args > 0\u001b[0m\u001b[0;34m\u001b[0m\u001b[0;34m\u001b[0m\u001b[0;34m\u001b[0m\u001b[0m\n",
      "\u001b[0;32m/opt/conda/lib/python3.7/site-packages/sklearn/utils/validation.py\u001b[0m in \u001b[0;36mcheck_array\u001b[0;34m(array, accept_sparse, accept_large_sparse, dtype, order, copy, force_all_finite, ensure_2d, allow_nd, ensure_min_samples, ensure_min_features, estimator)\u001b[0m\n\u001b[1;32m    538\u001b[0m \u001b[0;34m\u001b[0m\u001b[0m\n\u001b[1;32m    539\u001b[0m         \u001b[0;32mif\u001b[0m \u001b[0mall\u001b[0m\u001b[0;34m(\u001b[0m\u001b[0misinstance\u001b[0m\u001b[0;34m(\u001b[0m\u001b[0mdtype\u001b[0m\u001b[0;34m,\u001b[0m \u001b[0mnp\u001b[0m\u001b[0;34m.\u001b[0m\u001b[0mdtype\u001b[0m\u001b[0;34m)\u001b[0m \u001b[0;32mfor\u001b[0m \u001b[0mdtype\u001b[0m \u001b[0;32min\u001b[0m \u001b[0mdtypes_orig\u001b[0m\u001b[0;34m)\u001b[0m\u001b[0;34m:\u001b[0m\u001b[0;34m\u001b[0m\u001b[0;34m\u001b[0m\u001b[0m\n\u001b[0;32m--> 540\u001b[0;31m             \u001b[0mdtype_orig\u001b[0m \u001b[0;34m=\u001b[0m \u001b[0mnp\u001b[0m\u001b[0;34m.\u001b[0m\u001b[0mresult_type\u001b[0m\u001b[0;34m(\u001b[0m\u001b[0;34m*\u001b[0m\u001b[0mdtypes_orig\u001b[0m\u001b[0;34m)\u001b[0m\u001b[0;34m\u001b[0m\u001b[0;34m\u001b[0m\u001b[0m\n\u001b[0m\u001b[1;32m    541\u001b[0m \u001b[0;34m\u001b[0m\u001b[0m\n\u001b[1;32m    542\u001b[0m     \u001b[0;32mif\u001b[0m \u001b[0mdtype_numeric\u001b[0m\u001b[0;34m:\u001b[0m\u001b[0;34m\u001b[0m\u001b[0;34m\u001b[0m\u001b[0m\n",
      "\u001b[0;32m<__array_function__ internals>\u001b[0m in \u001b[0;36mresult_type\u001b[0;34m(*args, **kwargs)\u001b[0m\n",
      "\u001b[0;31mTypeError\u001b[0m: invalid type promotion"
     ]
    }
   ],
   "source": [
    "# import the regressor\n",
    "from sklearn.tree import DecisionTreeRegressor \n",
    "  \n",
    "# create a regressor object\n",
    "regressor = DecisionTreeRegressor(random_state = 0, max_depth = 6) \n",
    "  \n",
    "# fit the regressor with X and Y data\n",
    "regressor.fit(X, y)"
   ]
  },
  {
   "cell_type": "code",
   "execution_count": null,
   "id": "continental-treasure",
   "metadata": {},
   "outputs": [],
   "source": []
  }
 ],
 "metadata": {
  "kernelspec": {
   "display_name": "Python [conda env:root] *",
   "language": "python",
   "name": "conda-root-py"
  },
  "language_info": {
   "codemirror_mode": {
    "name": "ipython",
    "version": 3
   },
   "file_extension": ".py",
   "mimetype": "text/x-python",
   "name": "python",
   "nbconvert_exporter": "python",
   "pygments_lexer": "ipython3",
   "version": "3.7.10"
  }
 },
 "nbformat": 4,
 "nbformat_minor": 5
}

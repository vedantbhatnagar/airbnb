{
 "cells": [
  {
   "cell_type": "code",
   "execution_count": 1,
   "id": "incorporate-gasoline",
   "metadata": {},
   "outputs": [],
   "source": [
    "import numpy as np\n",
    "import pandas as pd\n",
    "import datetime as dt"
   ]
  },
  {
   "cell_type": "code",
   "execution_count": 2,
   "id": "consecutive-wagner",
   "metadata": {},
   "outputs": [],
   "source": [
    "df = pd.read_csv('listings.csv.gz')"
   ]
  },
  {
   "cell_type": "code",
   "execution_count": 3,
   "id": "successful-wellington",
   "metadata": {},
   "outputs": [],
   "source": [
    "df2 = df.copy()"
   ]
  },
  {
   "cell_type": "code",
   "execution_count": 4,
   "id": "adolescent-preparation",
   "metadata": {},
   "outputs": [],
   "source": [
    "df_numeric = df.select_dtypes(include=['float64'])\n",
    "\n",
    "df_string = df.select_dtypes(include=['object'])\n",
    "\n",
    "df_int = df.select_dtypes(include=['int'])"
   ]
  },
  {
   "cell_type": "code",
   "execution_count": 5,
   "id": "distributed-convenience",
   "metadata": {},
   "outputs": [],
   "source": [
    "potential_important_string = ['host_since', 'host_location', 'host_response_rate', 'host_acceptance_rate', 'host_is_superhost',\\\n",
    "                             'host_identity_verified', 'neighbourhood', 'neighbourhood_cleansed',\\\n",
    "                             'property_type', 'room_type', 'bathrooms_text', 'instant_bookable', 'last_review']"
   ]
  },
  {
   "cell_type": "code",
   "execution_count": 6,
   "id": "transsexual-scoop",
   "metadata": {},
   "outputs": [
    {
     "data": {
      "text/html": [
       "<div>\n",
       "<style scoped>\n",
       "    .dataframe tbody tr th:only-of-type {\n",
       "        vertical-align: middle;\n",
       "    }\n",
       "\n",
       "    .dataframe tbody tr th {\n",
       "        vertical-align: top;\n",
       "    }\n",
       "\n",
       "    .dataframe thead th {\n",
       "        text-align: right;\n",
       "    }\n",
       "</style>\n",
       "<table border=\"1\" class=\"dataframe\">\n",
       "  <thead>\n",
       "    <tr style=\"text-align: right;\">\n",
       "      <th></th>\n",
       "      <th>host_since</th>\n",
       "      <th>host_location</th>\n",
       "      <th>host_response_rate</th>\n",
       "      <th>host_acceptance_rate</th>\n",
       "      <th>host_is_superhost</th>\n",
       "      <th>host_identity_verified</th>\n",
       "      <th>neighbourhood</th>\n",
       "      <th>neighbourhood_cleansed</th>\n",
       "      <th>property_type</th>\n",
       "      <th>room_type</th>\n",
       "      <th>bathrooms_text</th>\n",
       "      <th>instant_bookable</th>\n",
       "      <th>last_review</th>\n",
       "    </tr>\n",
       "  </thead>\n",
       "  <tbody>\n",
       "    <tr>\n",
       "      <th>count</th>\n",
       "      <td>18228</td>\n",
       "      <td>18199</td>\n",
       "      <td>3937</td>\n",
       "      <td>7796</td>\n",
       "      <td>18228</td>\n",
       "      <td>18228</td>\n",
       "      <td>12023</td>\n",
       "      <td>18291</td>\n",
       "      <td>18291</td>\n",
       "      <td>18291</td>\n",
       "      <td>18269</td>\n",
       "      <td>18291</td>\n",
       "      <td>15902</td>\n",
       "    </tr>\n",
       "    <tr>\n",
       "      <th>unique</th>\n",
       "      <td>3268</td>\n",
       "      <td>534</td>\n",
       "      <td>50</td>\n",
       "      <td>89</td>\n",
       "      <td>2</td>\n",
       "      <td>2</td>\n",
       "      <td>67</td>\n",
       "      <td>22</td>\n",
       "      <td>65</td>\n",
       "      <td>4</td>\n",
       "      <td>27</td>\n",
       "      <td>2</td>\n",
       "      <td>1833</td>\n",
       "    </tr>\n",
       "    <tr>\n",
       "      <th>top</th>\n",
       "      <td>2016-04-05</td>\n",
       "      <td>Amsterdam, North Holland, Netherlands</td>\n",
       "      <td>100%</td>\n",
       "      <td>100%</td>\n",
       "      <td>f</td>\n",
       "      <td>t</td>\n",
       "      <td>Amsterdam, Noord-Holland, Netherlands</td>\n",
       "      <td>De Baarsjes - Oud-West</td>\n",
       "      <td>Entire apartment</td>\n",
       "      <td>Entire home/apt</td>\n",
       "      <td>1 bath</td>\n",
       "      <td>f</td>\n",
       "      <td>2020-01-02</td>\n",
       "    </tr>\n",
       "    <tr>\n",
       "      <th>freq</th>\n",
       "      <td>88</td>\n",
       "      <td>10046</td>\n",
       "      <td>2794</td>\n",
       "      <td>3638</td>\n",
       "      <td>15849</td>\n",
       "      <td>11918</td>\n",
       "      <td>9534</td>\n",
       "      <td>3044</td>\n",
       "      <td>11393</td>\n",
       "      <td>14283</td>\n",
       "      <td>10677</td>\n",
       "      <td>13914</td>\n",
       "      <td>259</td>\n",
       "    </tr>\n",
       "  </tbody>\n",
       "</table>\n",
       "</div>"
      ],
      "text/plain": [
       "        host_since                          host_location host_response_rate  \\\n",
       "count        18228                                  18199               3937   \n",
       "unique        3268                                    534                 50   \n",
       "top     2016-04-05  Amsterdam, North Holland, Netherlands               100%   \n",
       "freq            88                                  10046               2794   \n",
       "\n",
       "       host_acceptance_rate host_is_superhost host_identity_verified  \\\n",
       "count                  7796             18228                  18228   \n",
       "unique                   89                 2                      2   \n",
       "top                    100%                 f                      t   \n",
       "freq                   3638             15849                  11918   \n",
       "\n",
       "                                neighbourhood  neighbourhood_cleansed  \\\n",
       "count                                   12023                   18291   \n",
       "unique                                     67                      22   \n",
       "top     Amsterdam, Noord-Holland, Netherlands  De Baarsjes - Oud-West   \n",
       "freq                                     9534                    3044   \n",
       "\n",
       "           property_type        room_type bathrooms_text instant_bookable  \\\n",
       "count              18291            18291          18269            18291   \n",
       "unique                65                4             27                2   \n",
       "top     Entire apartment  Entire home/apt         1 bath                f   \n",
       "freq               11393            14283          10677            13914   \n",
       "\n",
       "       last_review  \n",
       "count        15902  \n",
       "unique        1833  \n",
       "top     2020-01-02  \n",
       "freq           259  "
      ]
     },
     "execution_count": 6,
     "metadata": {},
     "output_type": "execute_result"
    }
   ],
   "source": [
    "df_string[potential_important_string].describe()"
   ]
  },
  {
   "cell_type": "code",
   "execution_count": 7,
   "id": "specialized-framework",
   "metadata": {},
   "outputs": [],
   "source": [
    "drop_list = ['neighbourhood_group_cleansed', 'bathrooms', 'calendar_updated', 'license', 'latitude', 'longitude', 'id',\\\n",
    "             'scrape_id', 'host_id']"
   ]
  },
  {
   "cell_type": "code",
   "execution_count": 8,
   "id": "welsh-display",
   "metadata": {},
   "outputs": [
    {
     "data": {
      "text/plain": [
       "(18291, 65)"
      ]
     },
     "execution_count": 8,
     "metadata": {},
     "output_type": "execute_result"
    }
   ],
   "source": [
    "df2.drop(columns = drop_list, axis = 1, inplace = True)\n",
    "df2.shape"
   ]
  },
  {
   "cell_type": "code",
   "execution_count": 9,
   "id": "integral-blowing",
   "metadata": {},
   "outputs": [],
   "source": [
    "df2.dropna(subset = ['host_since', 'host_is_superhost', 'host_identity_verified'], inplace = True)"
   ]
  },
  {
   "cell_type": "code",
   "execution_count": 10,
   "id": "sapphire-effect",
   "metadata": {},
   "outputs": [],
   "source": [
    "# cleaning and engineering host_since\n",
    "df2['host_since'] = pd.to_datetime(df2['host_since'])\n",
    "df2['months_active'] = (dt.datetime.today() - df2['host_since'])/np.timedelta64(1, 'M')\n",
    "df2['months_active'] = df2['months_active'].astype(int)"
   ]
  },
  {
   "cell_type": "code",
   "execution_count": 11,
   "id": "married-grace",
   "metadata": {},
   "outputs": [
    {
     "data": {
      "text/plain": [
       "Amsterdam, North Holland, Netherlands        10046\n",
       "Amsterdam, North Holland, The Netherlands     3515\n",
       "NL                                            1549\n",
       "Amsterdam, Noord-Holland, The Netherlands     1153\n",
       "Netherlands                                    520\n",
       "                                             ...  \n",
       "Athens, Attica, Greece                           1\n",
       "Jons, Auvergne-Rhône-Alpes, France               1\n",
       "Bennekom, Gelderland, Netherlands                1\n",
       "Heerenveen, Friesland, Netherlands               1\n",
       "Wellington, Wellington, New Zealand              1\n",
       "Name: host_location, Length: 534, dtype: int64"
      ]
     },
     "execution_count": 11,
     "metadata": {},
     "output_type": "execute_result"
    }
   ],
   "source": [
    "df2['host_location'].value_counts()\n",
    "# too many entries to clean, ignore for now"
   ]
  },
  {
   "cell_type": "code",
   "execution_count": 12,
   "id": "artistic-romantic",
   "metadata": {},
   "outputs": [
    {
     "name": "stdout",
     "output_type": "stream",
     "text": [
      "count    3937.000000\n",
      "mean       86.042418\n",
      "std        28.633557\n",
      "min         0.000000\n",
      "25%        89.000000\n",
      "50%       100.000000\n",
      "75%       100.000000\n",
      "max       100.000000\n",
      "Name: host_response_rate, dtype: float64\n"
     ]
    }
   ],
   "source": [
    "df2['host_response_rate'] = df2['host_response_rate'].str.replace('%','')\n",
    "df2['host_response_rate'] = pd.to_numeric(df2['host_response_rate'])\n",
    "print(df2['host_response_rate'].describe())\n",
    "# Given most of the values being missing, we will replace missing values with mean\n",
    "df2['host_response_rate'].fillna(df2['host_response_rate'].mean(), inplace = True)\n",
    "# print(df2['host_response_rate'].describe())"
   ]
  },
  {
   "cell_type": "code",
   "execution_count": 13,
   "id": "exciting-breathing",
   "metadata": {},
   "outputs": [
    {
     "name": "stdout",
     "output_type": "stream",
     "text": [
      "count    7796.000000\n",
      "mean       77.234864\n",
      "std        33.575089\n",
      "min         0.000000\n",
      "25%        63.000000\n",
      "50%        98.000000\n",
      "75%       100.000000\n",
      "max       100.000000\n",
      "Name: host_acceptance_rate, dtype: float64\n",
      "count    18228.000000\n",
      "mean        77.234864\n",
      "std         21.956729\n",
      "min          0.000000\n",
      "25%         77.234864\n",
      "50%         77.234864\n",
      "75%         93.000000\n",
      "max        100.000000\n",
      "Name: host_acceptance_rate, dtype: float64\n"
     ]
    }
   ],
   "source": [
    "df2['host_acceptance_rate'] = df2['host_acceptance_rate'].str.replace('%','')\n",
    "df2['host_acceptance_rate'] = pd.to_numeric(df2['host_acceptance_rate'])\n",
    "print(df2['host_acceptance_rate'].describe())\n",
    "# Given most of the values being missing, we will replace missing values with mean\n",
    "df2['host_acceptance_rate'].fillna(df2['host_acceptance_rate'].mean(), inplace = True)\n",
    "print(df2['host_acceptance_rate'].describe())"
   ]
  },
  {
   "cell_type": "code",
   "execution_count": 14,
   "id": "architectural-stomach",
   "metadata": {},
   "outputs": [
    {
     "name": "stdout",
     "output_type": "stream",
     "text": [
      "f    15849\n",
      "t     2379\n",
      "Name: host_is_superhost, dtype: int64\n"
     ]
    },
    {
     "data": {
      "text/plain": [
       "0    15849\n",
       "1     2379\n",
       "Name: host_is_superhost, dtype: int64"
      ]
     },
     "execution_count": 14,
     "metadata": {},
     "output_type": "execute_result"
    }
   ],
   "source": [
    "print(df2['host_is_superhost'].value_counts())\n",
    "# only true false values, convert them to 0 and 1 categorical\n",
    "df2['host_is_superhost'].replace({'t': 1, 'f': 0}, inplace = True)\n",
    "df2['host_is_superhost'].value_counts()"
   ]
  },
  {
   "cell_type": "code",
   "execution_count": 15,
   "id": "graduate-boulder",
   "metadata": {},
   "outputs": [
    {
     "name": "stdout",
     "output_type": "stream",
     "text": [
      "t    11918\n",
      "f     6310\n",
      "Name: host_identity_verified, dtype: int64\n"
     ]
    },
    {
     "data": {
      "text/plain": [
       "1    11918\n",
       "0     6310\n",
       "Name: host_identity_verified, dtype: int64"
      ]
     },
     "execution_count": 15,
     "metadata": {},
     "output_type": "execute_result"
    }
   ],
   "source": [
    "print(df2['host_identity_verified'].value_counts())\n",
    "# only true false values, convert them to 0 and 1 categorical\n",
    "df2['host_identity_verified'].replace({'t': 1, 'f': 0}, inplace = True)\n",
    "df2['host_identity_verified'].value_counts()"
   ]
  },
  {
   "cell_type": "code",
   "execution_count": 16,
   "id": "liable-destruction",
   "metadata": {},
   "outputs": [
    {
     "data": {
      "text/plain": [
       "Amsterdam, Noord-Holland, Netherlands             9487\n",
       "Amsterdam, North Holland, Netherlands             1483\n",
       "Amsterdam, NH, Netherlands                         697\n",
       "Amsterdam, Netherlands                             110\n",
       "Amsterdam-Zuidoost, Noord-Holland, Netherlands      57\n",
       "                                                  ... \n",
       "Amstelveen, NH, Netherlands                          1\n",
       "Diemen, Noord-Holland, Netherlands                   1\n",
       "Amsterdam, SN, Netherlands                           1\n",
       "Haarlem, Noord-Holland, Netherlands                  1\n",
       "Amsterdam, VX, Netherlands                           1\n",
       "Name: neighbourhood, Length: 67, dtype: int64"
      ]
     },
     "execution_count": 16,
     "metadata": {},
     "output_type": "execute_result"
    }
   ],
   "source": [
    "df2['neighbourhood'].value_counts()\n",
    "# too many values, ignore for now"
   ]
  },
  {
   "cell_type": "code",
   "execution_count": 17,
   "id": "grave-karma",
   "metadata": {},
   "outputs": [
    {
     "name": "stdout",
     "output_type": "stream",
     "text": [
      "De Baarsjes - Oud-West                    3029\n",
      "De Pijp - Rivierenbuurt                   2262\n",
      "Centrum-West                              1994\n",
      "Centrum-Oost                              1554\n",
      "Westerpark                                1392\n",
      "Zuid                                      1306\n",
      "Oud-Oost                                  1177\n",
      "Bos en Lommer                             1042\n",
      "Oostelijk Havengebied - Indische Buurt     869\n",
      "Oud-Noord                                  586\n",
      "Watergraafsmeer                            525\n",
      "IJburg - Zeeburgereiland                   423\n",
      "Slotervaart                                410\n",
      "Noord-West                                 369\n",
      "Noord-Oost                                 254\n",
      "Buitenveldert - Zuidas                     252\n",
      "Geuzenveld - Slotermeer                    214\n",
      "De Aker - Nieuw Sloten                     126\n",
      "Osdorp                                     124\n",
      "Gaasperdam - Driemond                      121\n",
      "Bijlmer-Centrum                            103\n",
      "Bijlmer-Oost                                96\n",
      "Name: neighbourhood_cleansed, dtype: int64\n"
     ]
    },
    {
     "data": {
      "text/plain": [
       "(18228, 87)"
      ]
     },
     "execution_count": 17,
     "metadata": {},
     "output_type": "execute_result"
    }
   ],
   "source": [
    "print(df2['neighbourhood_cleansed'].value_counts())\n",
    "# manageable number of values, will do one hot encoding\n",
    "neighbourhood_dummies = pd.get_dummies(df2['neighbourhood_cleansed'], prefix = 'Neighbourhood', drop_first=True)\n",
    "df2_dummies = pd.concat([df2, neighbourhood_dummies], axis=1)\n",
    "df2_dummies.shape"
   ]
  },
  {
   "cell_type": "code",
   "execution_count": 18,
   "id": "naval-short",
   "metadata": {},
   "outputs": [
    {
     "data": {
      "text/plain": [
       "Entire apartment                     11335\n",
       "Private room in apartment             2217\n",
       "Entire house                          1195\n",
       "Entire townhouse                       472\n",
       "Private room in bed and breakfast      344\n",
       "                                     ...  \n",
       "Cave                                     1\n",
       "Room in casa particular                  1\n",
       "Earth house                              1\n",
       "Tipi                                     1\n",
       "Bus                                      1\n",
       "Name: property_type, Length: 65, dtype: int64"
      ]
     },
     "execution_count": 18,
     "metadata": {},
     "output_type": "execute_result"
    }
   ],
   "source": [
    "df2_dummies['property_type'].value_counts()\n",
    "#too many values, ignore"
   ]
  },
  {
   "cell_type": "code",
   "execution_count": 19,
   "id": "naked-heather",
   "metadata": {},
   "outputs": [
    {
     "name": "stdout",
     "output_type": "stream",
     "text": [
      "Entire home/apt    14221\n",
      "Private room        3830\n",
      "Hotel room           127\n",
      "Shared room           50\n",
      "Name: room_type, dtype: int64\n"
     ]
    },
    {
     "data": {
      "text/plain": [
       "(18228, 90)"
      ]
     },
     "execution_count": 19,
     "metadata": {},
     "output_type": "execute_result"
    }
   ],
   "source": [
    "print(df2_dummies['room_type'].value_counts())\n",
    "# manageable number of values, will do one hot encoding\n",
    "room_dummies = pd.get_dummies(df2_dummies['room_type'], prefix = 'room_type', drop_first=True)\n",
    "df2_dummies = pd.concat([df2_dummies, room_dummies], axis=1)\n",
    "df2_dummies.shape"
   ]
  },
  {
   "cell_type": "code",
   "execution_count": 20,
   "id": "transparent-preservation",
   "metadata": {},
   "outputs": [
    {
     "name": "stdout",
     "output_type": "stream",
     "text": [
      "1 bath               10637\n",
      "1.5 baths             3452\n",
      "1 shared bath         1210\n",
      "1 private bath        1043\n",
      "2 baths                800\n",
      "1.5 shared baths       466\n",
      "2.5 baths              239\n",
      "3 baths                 96\n",
      "3.5 baths               43\n",
      "Half-bath               39\n",
      "0 baths                 38\n",
      "Shared half-bath        32\n",
      "2 shared baths          29\n",
      "0 shared baths          15\n",
      "4 baths                 13\n",
      "Private half-bath       11\n",
      "3 shared baths          10\n",
      "3.5 shared baths         8\n",
      "2.5 shared baths         6\n",
      "4 shared baths           5\n",
      "4.5 baths                4\n",
      "8 baths                  3\n",
      "5 baths                  2\n",
      "6 baths                  2\n",
      "12 baths                 1\n",
      "13 baths                 1\n",
      "5.5 baths                1\n",
      "Name: bathrooms_text, dtype: int64\n"
     ]
    },
    {
     "data": {
      "text/plain": [
       "(18228, 116)"
      ]
     },
     "execution_count": 20,
     "metadata": {},
     "output_type": "execute_result"
    }
   ],
   "source": [
    "print(df2_dummies['bathrooms_text'].value_counts())\n",
    "# manageable number of values, will do one hot encoding\n",
    "bathroom_dummies = pd.get_dummies(df2_dummies['bathrooms_text'], prefix = 'bathrooms', drop_first=True)\n",
    "df2_dummies = pd.concat([df2_dummies, bathroom_dummies], axis=1)\n",
    "df2_dummies.shape"
   ]
  },
  {
   "cell_type": "code",
   "execution_count": 21,
   "id": "favorite-prophet",
   "metadata": {},
   "outputs": [
    {
     "name": "stdout",
     "output_type": "stream",
     "text": [
      "f    13854\n",
      "t     4374\n",
      "Name: instant_bookable, dtype: int64\n"
     ]
    },
    {
     "data": {
      "text/plain": [
       "0    13854\n",
       "1     4374\n",
       "Name: instant_bookable, dtype: int64"
      ]
     },
     "execution_count": 21,
     "metadata": {},
     "output_type": "execute_result"
    }
   ],
   "source": [
    "print(df2_dummies['instant_bookable'].value_counts())\n",
    "# manageable number of values, will do one hot encoding\n",
    "df2_dummies['instant_bookable'].replace({'t': 1, 'f': 0}, inplace = True)\n",
    "df2_dummies['instant_bookable'].value_counts()"
   ]
  },
  {
   "cell_type": "code",
   "execution_count": 22,
   "id": "human-climate",
   "metadata": {},
   "outputs": [],
   "source": [
    "# df2_dummies['last_review'] = pd.to_datetime(df2_dummies['last_review'])\n",
    "# df2_dummies['last_review'] = (dt.datetime.today() - df2_dummies['last_review'])/np.timedelta64(1, 'M')\n",
    "# # df2_dummies['last_review'] = df2_dummies['last_review'].astype(int)"
   ]
  },
  {
   "cell_type": "code",
   "execution_count": 23,
   "id": "desperate-overview",
   "metadata": {},
   "outputs": [
    {
     "name": "stdout",
     "output_type": "stream",
     "text": [
      "2383\n"
     ]
    },
    {
     "data": {
      "text/plain": [
       "count          15845\n",
       "unique          1830\n",
       "top       2020-01-02\n",
       "freq             258\n",
       "Name: last_review, dtype: object"
      ]
     },
     "execution_count": 23,
     "metadata": {},
     "output_type": "execute_result"
    }
   ],
   "source": [
    "df2_dummies['last_review'] = pd.to_datetime(df2_dummies['last_review'])\n",
    "print(df2_dummies['last_review'].isnull().sum())\n",
    "# print(df2_dummies['last_review'].describe())\n",
    "# there are a lot of null values, so we will not remove them as we will lose data. We can instead replace missing values with\n",
    "# the most frequent observation which is 2020-01-02 (258/15845 % frequency)\n",
    "df2_dummies['last_review'].fillna(df2_dummies['last_review'].mode(), inplace = True)\n",
    "df2['last_review'].describe()"
   ]
  },
  {
   "cell_type": "code",
   "execution_count": 24,
   "id": "hawaiian-plasma",
   "metadata": {},
   "outputs": [
    {
     "data": {
      "text/plain": [
       "22      NaT\n",
       "25      NaT\n",
       "181     NaT\n",
       "241     NaT\n",
       "272     NaT\n",
       "         ..\n",
       "18286   NaT\n",
       "18287   NaT\n",
       "18288   NaT\n",
       "18289   NaT\n",
       "18290   NaT\n",
       "Name: last_review, Length: 2383, dtype: datetime64[ns]"
      ]
     },
     "execution_count": 24,
     "metadata": {},
     "output_type": "execute_result"
    }
   ],
   "source": [
    "df2_dummies['last_review'][df2_dummies['last_review'].isnull() == True]"
   ]
  },
  {
   "cell_type": "code",
   "execution_count": 91,
   "id": "honest-pennsylvania",
   "metadata": {},
   "outputs": [
    {
     "data": {
      "text/plain": [
       "0   2020-01-02\n",
       "dtype: datetime64[ns]"
      ]
     },
     "execution_count": 91,
     "metadata": {},
     "output_type": "execute_result"
    }
   ],
   "source": [
    "df2_dummies['last_review'].mode()"
   ]
  },
  {
   "cell_type": "code",
   "execution_count": null,
   "id": "referenced-bryan",
   "metadata": {},
   "outputs": [],
   "source": []
  }
 ],
 "metadata": {
  "kernelspec": {
   "display_name": "Python [conda env:root] *",
   "language": "python",
   "name": "conda-root-py"
  },
  "language_info": {
   "codemirror_mode": {
    "name": "ipython",
    "version": 3
   },
   "file_extension": ".py",
   "mimetype": "text/x-python",
   "name": "python",
   "nbconvert_exporter": "python",
   "pygments_lexer": "ipython3",
   "version": "3.7.10"
  }
 },
 "nbformat": 4,
 "nbformat_minor": 5
}

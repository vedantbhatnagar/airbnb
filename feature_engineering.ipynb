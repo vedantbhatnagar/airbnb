{
 "cells": [
  {
   "cell_type": "code",
   "execution_count": 1,
   "id": "incorporate-gasoline",
   "metadata": {},
   "outputs": [],
   "source": [
    "import numpy as np\n",
    "import pandas as pd\n",
    "import datetime as dt"
   ]
  },
  {
   "cell_type": "code",
   "execution_count": 2,
   "id": "consecutive-wagner",
   "metadata": {},
   "outputs": [],
   "source": [
    "df = pd.read_csv('listings.csv.gz')"
   ]
  },
  {
   "cell_type": "code",
   "execution_count": 3,
   "id": "successful-wellington",
   "metadata": {},
   "outputs": [],
   "source": [
    "df2 = df.copy()"
   ]
  },
  {
   "cell_type": "code",
   "execution_count": 4,
   "id": "adolescent-preparation",
   "metadata": {},
   "outputs": [],
   "source": [
    "df_numeric = df.select_dtypes(include=['float64'])\n",
    "\n",
    "df_string = df.select_dtypes(include=['object'])\n",
    "\n",
    "df_int = df.select_dtypes(include=['int'])"
   ]
  },
  {
   "cell_type": "code",
   "execution_count": 5,
   "id": "distributed-convenience",
   "metadata": {},
   "outputs": [],
   "source": [
    "potential_important_string = ['host_since', 'host_location', 'host_response_rate', 'host_acceptance_rate', 'host_is_superhost',\\\n",
    "                             'host_identity_verified', 'neighbourhood', 'neighbourhood_cleansed',\\\n",
    "                             'property_type', 'room_type', 'bathrooms_text', 'instant_bookable', 'last_review']"
   ]
  },
  {
   "cell_type": "code",
   "execution_count": 6,
   "id": "integral-blowing",
   "metadata": {},
   "outputs": [],
   "source": [
    "df2.dropna(subset = ['host_since', 'host_is_superhost', 'host_identity_verified'], inplace = True)"
   ]
  },
  {
   "cell_type": "code",
   "execution_count": 7,
   "id": "sapphire-effect",
   "metadata": {},
   "outputs": [],
   "source": [
    "# cleaning and engineering host_since\n",
    "df2['host_since'] = pd.to_datetime(df2['host_since'])\n",
    "df2['months_active'] = (dt.datetime.today() - df2['host_since'])/np.timedelta64(1, 'M')\n",
    "df2['months_active'] = df2['months_active'].astype(int)\n",
    "df2.drop(columns = 'host_since', axis = 1, inplace = True)"
   ]
  },
  {
   "cell_type": "code",
   "execution_count": 8,
   "id": "married-grace",
   "metadata": {},
   "outputs": [
    {
     "data": {
      "text/plain": [
       "Amsterdam, North Holland, Netherlands        10046\n",
       "Amsterdam, North Holland, The Netherlands     3515\n",
       "NL                                            1549\n",
       "Amsterdam, Noord-Holland, The Netherlands     1153\n",
       "Netherlands                                    520\n",
       "                                             ...  \n",
       "Vouillé, Nouvelle-Aquitaine, France              1\n",
       "Dornbirn, Vorarlberg, Austria                    1\n",
       "Colorado, United States                          1\n",
       "Birmingham, England, United Kingdom              1\n",
       "Stoke-on-Trent, England, United Kingdom          1\n",
       "Name: host_location, Length: 534, dtype: int64"
      ]
     },
     "execution_count": 8,
     "metadata": {},
     "output_type": "execute_result"
    }
   ],
   "source": [
    "df2['host_location'].value_counts()\n",
    "# too many entries to clean, ignore for now"
   ]
  },
  {
   "cell_type": "code",
   "execution_count": 9,
   "id": "artistic-romantic",
   "metadata": {},
   "outputs": [
    {
     "name": "stdout",
     "output_type": "stream",
     "text": [
      "count    3937.000000\n",
      "mean       86.042418\n",
      "std        28.633557\n",
      "min         0.000000\n",
      "25%        89.000000\n",
      "50%       100.000000\n",
      "75%       100.000000\n",
      "max       100.000000\n",
      "Name: host_response_rate, dtype: float64\n"
     ]
    }
   ],
   "source": [
    "df2['host_response_rate'] = df2['host_response_rate'].str.replace('%','')\n",
    "df2['host_response_rate'] = pd.to_numeric(df2['host_response_rate'])\n",
    "print(df2['host_response_rate'].describe())\n",
    "# Given most of the values being missing, we will replace missing values with mean\n",
    "df2['host_response_rate'].fillna(df2['host_response_rate'].mean(), inplace = True)\n",
    "# print(df2['host_response_rate'].describe())"
   ]
  },
  {
   "cell_type": "code",
   "execution_count": 10,
   "id": "exciting-breathing",
   "metadata": {},
   "outputs": [
    {
     "name": "stdout",
     "output_type": "stream",
     "text": [
      "count    7796.000000\n",
      "mean       77.234864\n",
      "std        33.575089\n",
      "min         0.000000\n",
      "25%        63.000000\n",
      "50%        98.000000\n",
      "75%       100.000000\n",
      "max       100.000000\n",
      "Name: host_acceptance_rate, dtype: float64\n",
      "count    18228.000000\n",
      "mean        77.234864\n",
      "std         21.956729\n",
      "min          0.000000\n",
      "25%         77.234864\n",
      "50%         77.234864\n",
      "75%         93.000000\n",
      "max        100.000000\n",
      "Name: host_acceptance_rate, dtype: float64\n"
     ]
    }
   ],
   "source": [
    "df2['host_acceptance_rate'] = df2['host_acceptance_rate'].str.replace('%','')\n",
    "df2['host_acceptance_rate'] = pd.to_numeric(df2['host_acceptance_rate'])\n",
    "print(df2['host_acceptance_rate'].describe())\n",
    "# Given most of the values being missing, we will replace missing values with mean\n",
    "df2['host_acceptance_rate'].fillna(df2['host_acceptance_rate'].mean(), inplace = True)\n",
    "print(df2['host_acceptance_rate'].describe())"
   ]
  },
  {
   "cell_type": "code",
   "execution_count": 11,
   "id": "architectural-stomach",
   "metadata": {},
   "outputs": [
    {
     "name": "stdout",
     "output_type": "stream",
     "text": [
      "f    15849\n",
      "t     2379\n",
      "Name: host_is_superhost, dtype: int64\n"
     ]
    },
    {
     "data": {
      "text/plain": [
       "0    15849\n",
       "1     2379\n",
       "Name: host_is_superhost, dtype: int64"
      ]
     },
     "execution_count": 11,
     "metadata": {},
     "output_type": "execute_result"
    }
   ],
   "source": [
    "print(df2['host_is_superhost'].value_counts())\n",
    "# only true false values, convert them to 0 and 1 categorical\n",
    "df2['host_is_superhost'].replace({'t': 1, 'f': 0}, inplace = True)\n",
    "df2['host_is_superhost'].value_counts()"
   ]
  },
  {
   "cell_type": "code",
   "execution_count": 12,
   "id": "graduate-boulder",
   "metadata": {},
   "outputs": [
    {
     "name": "stdout",
     "output_type": "stream",
     "text": [
      "t    11918\n",
      "f     6310\n",
      "Name: host_identity_verified, dtype: int64\n"
     ]
    },
    {
     "data": {
      "text/plain": [
       "1    11918\n",
       "0     6310\n",
       "Name: host_identity_verified, dtype: int64"
      ]
     },
     "execution_count": 12,
     "metadata": {},
     "output_type": "execute_result"
    }
   ],
   "source": [
    "print(df2['host_identity_verified'].value_counts())\n",
    "# only true false values, convert them to 0 and 1 categorical\n",
    "df2['host_identity_verified'].replace({'t': 1, 'f': 0}, inplace = True)\n",
    "df2['host_identity_verified'].value_counts()"
   ]
  },
  {
   "cell_type": "code",
   "execution_count": 13,
   "id": "liable-destruction",
   "metadata": {},
   "outputs": [
    {
     "data": {
      "text/plain": [
       "Amsterdam, Noord-Holland, Netherlands                       9487\n",
       "Amsterdam, North Holland, Netherlands                       1483\n",
       "Amsterdam, NH, Netherlands                                   697\n",
       "Amsterdam, Netherlands                                       110\n",
       "Amsterdam-Zuidoost, Noord-Holland, Netherlands                57\n",
       "                                                            ... \n",
       "Amsterdam, Zeedijk, Netherlands                                1\n",
       "Amsterdam, Noord-Holland, NL, Noord-Holland, Netherlands       1\n",
       "Nederland, North Holland, Netherlands                          1\n",
       "Amsterdam, VX, Netherlands                                     1\n",
       "Duivendrecht, Noord-Holland, Netherlands                       1\n",
       "Name: neighbourhood, Length: 67, dtype: int64"
      ]
     },
     "execution_count": 13,
     "metadata": {},
     "output_type": "execute_result"
    }
   ],
   "source": [
    "df2['neighbourhood'].value_counts()\n",
    "# too many values, ignore for now"
   ]
  },
  {
   "cell_type": "code",
   "execution_count": 14,
   "id": "grave-karma",
   "metadata": {},
   "outputs": [
    {
     "name": "stdout",
     "output_type": "stream",
     "text": [
      "De Baarsjes - Oud-West                    3029\n",
      "De Pijp - Rivierenbuurt                   2262\n",
      "Centrum-West                              1994\n",
      "Centrum-Oost                              1554\n",
      "Westerpark                                1392\n",
      "Zuid                                      1306\n",
      "Oud-Oost                                  1177\n",
      "Bos en Lommer                             1042\n",
      "Oostelijk Havengebied - Indische Buurt     869\n",
      "Oud-Noord                                  586\n",
      "Watergraafsmeer                            525\n",
      "IJburg - Zeeburgereiland                   423\n",
      "Slotervaart                                410\n",
      "Noord-West                                 369\n",
      "Noord-Oost                                 254\n",
      "Buitenveldert - Zuidas                     252\n",
      "Geuzenveld - Slotermeer                    214\n",
      "De Aker - Nieuw Sloten                     126\n",
      "Osdorp                                     124\n",
      "Gaasperdam - Driemond                      121\n",
      "Bijlmer-Centrum                            103\n",
      "Bijlmer-Oost                                96\n",
      "Name: neighbourhood_cleansed, dtype: int64\n"
     ]
    },
    {
     "data": {
      "text/plain": [
       "(18228, 94)"
      ]
     },
     "execution_count": 14,
     "metadata": {},
     "output_type": "execute_result"
    }
   ],
   "source": [
    "print(df2['neighbourhood_cleansed'].value_counts())\n",
    "# manageable number of values, will do one hot encoding\n",
    "neighbourhood_dummies = pd.get_dummies(df2['neighbourhood_cleansed'], prefix = 'Neighbourhood', drop_first=True)\n",
    "df2_dummies = pd.concat([df2, neighbourhood_dummies], axis=1)\n",
    "df2_dummies.drop('neighbourhood_cleansed', axis = 1, inplace = True)\n",
    "df2_dummies.shape"
   ]
  },
  {
   "cell_type": "code",
   "execution_count": 15,
   "id": "naval-short",
   "metadata": {},
   "outputs": [
    {
     "data": {
      "text/plain": [
       "Entire apartment                     11335\n",
       "Private room in apartment             2217\n",
       "Entire house                          1195\n",
       "Entire townhouse                       472\n",
       "Private room in bed and breakfast      344\n",
       "                                     ...  \n",
       "Cave                                     1\n",
       "Entire chalet                            1\n",
       "Earth house                              1\n",
       "Shared room in loft                      1\n",
       "Room in casa particular                  1\n",
       "Name: property_type, Length: 65, dtype: int64"
      ]
     },
     "execution_count": 15,
     "metadata": {},
     "output_type": "execute_result"
    }
   ],
   "source": [
    "df2_dummies['property_type'].value_counts()\n",
    "#too many values, ignore"
   ]
  },
  {
   "cell_type": "code",
   "execution_count": 16,
   "id": "naked-heather",
   "metadata": {},
   "outputs": [
    {
     "name": "stdout",
     "output_type": "stream",
     "text": [
      "Entire home/apt    14221\n",
      "Private room        3830\n",
      "Hotel room           127\n",
      "Shared room           50\n",
      "Name: room_type, dtype: int64\n"
     ]
    },
    {
     "data": {
      "text/plain": [
       "(18228, 96)"
      ]
     },
     "execution_count": 16,
     "metadata": {},
     "output_type": "execute_result"
    }
   ],
   "source": [
    "print(df2_dummies['room_type'].value_counts())\n",
    "# manageable number of values, will do one hot encoding\n",
    "room_dummies = pd.get_dummies(df2_dummies['room_type'], prefix = 'room_type', drop_first=True)\n",
    "df2_dummies = pd.concat([df2_dummies, room_dummies], axis=1)\n",
    "df2_dummies.drop('room_type', axis = 1, inplace = True)\n",
    "df2_dummies.shape"
   ]
  },
  {
   "cell_type": "code",
   "execution_count": 17,
   "id": "transparent-preservation",
   "metadata": {},
   "outputs": [
    {
     "name": "stdout",
     "output_type": "stream",
     "text": [
      "1 bath               10637\n",
      "1.5 baths             3452\n",
      "1 shared bath         1210\n",
      "1 private bath        1043\n",
      "2 baths                800\n",
      "1.5 shared baths       466\n",
      "2.5 baths              239\n",
      "3 baths                 96\n",
      "3.5 baths               43\n",
      "Half-bath               39\n",
      "0 baths                 38\n",
      "Shared half-bath        32\n",
      "2 shared baths          29\n",
      "0 shared baths          15\n",
      "4 baths                 13\n",
      "Private half-bath       11\n",
      "3 shared baths          10\n",
      "3.5 shared baths         8\n",
      "2.5 shared baths         6\n",
      "4 shared baths           5\n",
      "4.5 baths                4\n",
      "8 baths                  3\n",
      "5 baths                  2\n",
      "6 baths                  2\n",
      "13 baths                 1\n",
      "5.5 baths                1\n",
      "12 baths                 1\n",
      "Name: bathrooms_text, dtype: int64\n"
     ]
    },
    {
     "data": {
      "text/plain": [
       "(18228, 121)"
      ]
     },
     "execution_count": 17,
     "metadata": {},
     "output_type": "execute_result"
    }
   ],
   "source": [
    "print(df2_dummies['bathrooms_text'].value_counts())\n",
    "# manageable number of values, will do one hot encoding\n",
    "bathroom_dummies = pd.get_dummies(df2_dummies['bathrooms_text'], prefix = 'bathrooms', drop_first=True)\n",
    "df2_dummies = pd.concat([df2_dummies, bathroom_dummies], axis=1)\n",
    "df2_dummies.drop('bathrooms_text', axis = 1, inplace = True)\n",
    "df2_dummies.shape"
   ]
  },
  {
   "cell_type": "code",
   "execution_count": 18,
   "id": "favorite-prophet",
   "metadata": {},
   "outputs": [
    {
     "name": "stdout",
     "output_type": "stream",
     "text": [
      "f    13854\n",
      "t     4374\n",
      "Name: instant_bookable, dtype: int64\n"
     ]
    },
    {
     "data": {
      "text/plain": [
       "0    13854\n",
       "1     4374\n",
       "Name: instant_bookable, dtype: int64"
      ]
     },
     "execution_count": 18,
     "metadata": {},
     "output_type": "execute_result"
    }
   ],
   "source": [
    "print(df2_dummies['instant_bookable'].value_counts())\n",
    "# manageable number of values, will do one hot encoding\n",
    "df2_dummies['instant_bookable'].replace({'t': 1, 'f': 0}, inplace = True)\n",
    "df2_dummies['instant_bookable'].value_counts()"
   ]
  },
  {
   "cell_type": "code",
   "execution_count": 19,
   "id": "human-climate",
   "metadata": {},
   "outputs": [],
   "source": [
    "# df2_dummies['last_review'] = pd.to_datetime(df2_dummies['last_review'])\n",
    "# df2_dummies['last_review'] = (dt.datetime.today() - df2_dummies['last_review'])/np.timedelta64(1, 'M')\n",
    "# # df2_dummies['last_review'] = df2_dummies['last_review'].astype(int)"
   ]
  },
  {
   "cell_type": "code",
   "execution_count": 20,
   "id": "desperate-overview",
   "metadata": {},
   "outputs": [],
   "source": [
    "# df2_dummies['last_review'] = pd.to_datetime(df2_dummies['last_review'])\n",
    "# print(df2_dummies['last_review'].isnull().sum())\n",
    "# # print(df2_dummies['last_review'].describe())\n",
    "# # there are a lot of null values, so we will not remove them as we will lose data. We can instead replace missing values with\n",
    "# # the most frequent observation which is 2020-01-02 (258/15845 % frequency)\n",
    "# df2_dummies['last_review'].fillna(df2_dummies['last_review'].mode().values, inplace = True)\n",
    "# # df2_dummies['last_review'].fillna(100, inplace = True)\n",
    "# df2_dummies['last_review'].describe()\n",
    "# ignoring last_review for the moment"
   ]
  },
  {
   "cell_type": "code",
   "execution_count": 21,
   "id": "worth-southwest",
   "metadata": {},
   "outputs": [],
   "source": [
    "drop_list_numeric = ['neighbourhood_group_cleansed', 'bathrooms', 'calendar_updated', 'license', 'latitude', 'longitude', 'id',\\\n",
    "             'scrape_id', 'host_id']\n",
    "drop_list_string = ['listing_url', 'last_scraped', 'name', 'picture_url', 'host_url', 'host_name', 'host_thumbnail_url', \\\n",
    "                    'host_picture_url', 'calendar_last_scraped']\n",
    "drop_maybe_string = ['description', 'host_about', 'neighborhood_overview', 'host_location', 'host_response_time', \\\n",
    "                'host_neighbourhood', 'host_verifications', 'host_has_profile_pic', 'amenities', 'has_availability',\\\n",
    "                'first_review', 'host_location', 'neighbourhood', 'property_type', 'last_review']"
   ]
  },
  {
   "cell_type": "code",
   "execution_count": 22,
   "id": "referenced-bryan",
   "metadata": {},
   "outputs": [
    {
     "name": "stdout",
     "output_type": "stream",
     "text": [
      "(18228, 121)\n",
      "(18228, 112)\n",
      "(18228, 103)\n",
      "(18228, 89)\n"
     ]
    }
   ],
   "source": [
    "print(df2_dummies.shape)\n",
    "df2_dummies.drop(columns = drop_list_numeric, axis = 1, inplace = True)\n",
    "print(df2_dummies.shape)\n",
    "df2_dummies.drop(columns = drop_list_string, axis = 1, inplace = True)\n",
    "print(df2_dummies.shape)\n",
    "df2_dummies.drop(columns = drop_maybe_string, axis = 1, inplace = True)\n",
    "print(df2_dummies.shape)"
   ]
  },
  {
   "cell_type": "code",
   "execution_count": 23,
   "id": "minimal-argument",
   "metadata": {},
   "outputs": [
    {
     "name": "stderr",
     "output_type": "stream",
     "text": [
      "/opt/conda/lib/python3.7/site-packages/ipykernel_launcher.py:1: FutureWarning: The default value of regex will change from True to False in a future version. In addition, single character regular expressions will*not* be treated as literal strings when regex=True.\n",
      "  \"\"\"Entry point for launching an IPython kernel.\n"
     ]
    }
   ],
   "source": [
    "df2_dummies['price'] = df2_dummies['price'].str.replace('$','')\n",
    "df2_dummies['price'] = df2_dummies['price'].str.replace(',','')\n",
    "df2_dummies['price'] = pd.to_numeric(df2_dummies['price'])\n",
    "# df2_dummies['price']"
   ]
  },
  {
   "cell_type": "code",
   "execution_count": 24,
   "id": "colored-comfort",
   "metadata": {},
   "outputs": [
    {
     "data": {
      "text/plain": [
       "(14725, 89)"
      ]
     },
     "execution_count": 24,
     "metadata": {},
     "output_type": "execute_result"
    }
   ],
   "source": [
    "df2_dummies.dropna(inplace = True)\n",
    "df2_dummies.shape"
   ]
  },
  {
   "cell_type": "code",
   "execution_count": 25,
   "id": "victorian-think",
   "metadata": {},
   "outputs": [
    {
     "name": "stdout",
     "output_type": "stream",
     "text": [
      "(14725, 39)\n",
      "(14725, 50)\n",
      "(14725, 0)\n"
     ]
    }
   ],
   "source": [
    "df_numeric = df2_dummies.select_dtypes(include=['float64', 'int64'])\n",
    "print(df_numeric.shape)\n",
    "df_uint = df2_dummies.select_dtypes(include=['uint8'])\n",
    "print(df_uint.shape)\n",
    "df_object = df2_dummies.select_dtypes(include=['object'])\n",
    "print(df_object.shape)"
   ]
  },
  {
   "cell_type": "code",
   "execution_count": 26,
   "id": "tough-handling",
   "metadata": {},
   "outputs": [
    {
     "name": "stdout",
     "output_type": "stream",
     "text": [
      "(14725, 89)\n",
      "(14725, 89)\n"
     ]
    }
   ],
   "source": [
    "# df2_dummies[df_uint.columns] = pd.to_numeric(df2_dummies[df_uint.columns])\n",
    "cols = df_uint.columns\n",
    "cols\n",
    "df2_dummies[cols] = df2_dummies[cols].apply(pd.to_numeric, errors = 'coerce')\n",
    "df_numeric = df2_dummies.select_dtypes(include='number')\n",
    "print(df_numeric.shape)\n",
    "print(df2_dummies.shape)"
   ]
  },
  {
   "cell_type": "code",
   "execution_count": 27,
   "id": "accepting-record",
   "metadata": {},
   "outputs": [
    {
     "data": {
      "text/plain": [
       "host_response_rate             float64\n",
       "host_acceptance_rate           float64\n",
       "host_is_superhost                int64\n",
       "host_listings_count            float64\n",
       "host_total_listings_count      float64\n",
       "                                ...   \n",
       "bathrooms_6 baths                uint8\n",
       "bathrooms_8 baths                uint8\n",
       "bathrooms_Half-bath              uint8\n",
       "bathrooms_Private half-bath      uint8\n",
       "bathrooms_Shared half-bath       uint8\n",
       "Length: 89, dtype: object"
      ]
     },
     "execution_count": 27,
     "metadata": {},
     "output_type": "execute_result"
    }
   ],
   "source": [
    "df2_dummies.dtypes"
   ]
  },
  {
   "cell_type": "code",
   "execution_count": 28,
   "id": "biblical-compiler",
   "metadata": {},
   "outputs": [
    {
     "data": {
      "text/html": [
       "<div>\n",
       "<style scoped>\n",
       "    .dataframe tbody tr th:only-of-type {\n",
       "        vertical-align: middle;\n",
       "    }\n",
       "\n",
       "    .dataframe tbody tr th {\n",
       "        vertical-align: top;\n",
       "    }\n",
       "\n",
       "    .dataframe thead th {\n",
       "        text-align: right;\n",
       "    }\n",
       "</style>\n",
       "<table border=\"1\" class=\"dataframe\">\n",
       "  <thead>\n",
       "    <tr style=\"text-align: right;\">\n",
       "      <th></th>\n",
       "      <th>host_response_rate</th>\n",
       "      <th>host_acceptance_rate</th>\n",
       "      <th>host_is_superhost</th>\n",
       "      <th>host_listings_count</th>\n",
       "      <th>host_total_listings_count</th>\n",
       "      <th>host_identity_verified</th>\n",
       "      <th>accommodates</th>\n",
       "      <th>bedrooms</th>\n",
       "      <th>beds</th>\n",
       "      <th>price</th>\n",
       "      <th>...</th>\n",
       "      <th>bathrooms_4 baths</th>\n",
       "      <th>bathrooms_4 shared baths</th>\n",
       "      <th>bathrooms_4.5 baths</th>\n",
       "      <th>bathrooms_5 baths</th>\n",
       "      <th>bathrooms_5.5 baths</th>\n",
       "      <th>bathrooms_6 baths</th>\n",
       "      <th>bathrooms_8 baths</th>\n",
       "      <th>bathrooms_Half-bath</th>\n",
       "      <th>bathrooms_Private half-bath</th>\n",
       "      <th>bathrooms_Shared half-bath</th>\n",
       "    </tr>\n",
       "  </thead>\n",
       "  <tbody>\n",
       "    <tr>\n",
       "      <th>count</th>\n",
       "      <td>14725.000000</td>\n",
       "      <td>14725.000000</td>\n",
       "      <td>14725.000000</td>\n",
       "      <td>14725.000000</td>\n",
       "      <td>14725.000000</td>\n",
       "      <td>14725.000000</td>\n",
       "      <td>14725.000000</td>\n",
       "      <td>14725.000000</td>\n",
       "      <td>14725.000000</td>\n",
       "      <td>14725.000000</td>\n",
       "      <td>...</td>\n",
       "      <td>14725.000000</td>\n",
       "      <td>14725.000000</td>\n",
       "      <td>14725.000000</td>\n",
       "      <td>14725.000000</td>\n",
       "      <td>14725.000000</td>\n",
       "      <td>14725.000000</td>\n",
       "      <td>14725.000000</td>\n",
       "      <td>14725.000000</td>\n",
       "      <td>14725.000000</td>\n",
       "      <td>14725.000000</td>\n",
       "    </tr>\n",
       "    <tr>\n",
       "      <th>mean</th>\n",
       "      <td>86.184436</td>\n",
       "      <td>77.240556</td>\n",
       "      <td>0.145671</td>\n",
       "      <td>2.732360</td>\n",
       "      <td>2.732360</td>\n",
       "      <td>0.674092</td>\n",
       "      <td>2.866961</td>\n",
       "      <td>1.523871</td>\n",
       "      <td>1.788048</td>\n",
       "      <td>153.195789</td>\n",
       "      <td>...</td>\n",
       "      <td>0.000407</td>\n",
       "      <td>0.000272</td>\n",
       "      <td>0.000136</td>\n",
       "      <td>0.000136</td>\n",
       "      <td>0.000068</td>\n",
       "      <td>0.000136</td>\n",
       "      <td>0.000068</td>\n",
       "      <td>0.001834</td>\n",
       "      <td>0.000475</td>\n",
       "      <td>0.002037</td>\n",
       "    </tr>\n",
       "    <tr>\n",
       "      <th>std</th>\n",
       "      <td>13.150940</td>\n",
       "      <td>22.158632</td>\n",
       "      <td>0.352788</td>\n",
       "      <td>12.415031</td>\n",
       "      <td>12.415031</td>\n",
       "      <td>0.468729</td>\n",
       "      <td>1.260554</td>\n",
       "      <td>0.878787</td>\n",
       "      <td>1.445738</td>\n",
       "      <td>152.207041</td>\n",
       "      <td>...</td>\n",
       "      <td>0.020182</td>\n",
       "      <td>0.016480</td>\n",
       "      <td>0.011654</td>\n",
       "      <td>0.011654</td>\n",
       "      <td>0.008241</td>\n",
       "      <td>0.011654</td>\n",
       "      <td>0.008241</td>\n",
       "      <td>0.042783</td>\n",
       "      <td>0.021799</td>\n",
       "      <td>0.045093</td>\n",
       "    </tr>\n",
       "    <tr>\n",
       "      <th>min</th>\n",
       "      <td>0.000000</td>\n",
       "      <td>0.000000</td>\n",
       "      <td>0.000000</td>\n",
       "      <td>0.000000</td>\n",
       "      <td>0.000000</td>\n",
       "      <td>0.000000</td>\n",
       "      <td>1.000000</td>\n",
       "      <td>1.000000</td>\n",
       "      <td>0.000000</td>\n",
       "      <td>4.000000</td>\n",
       "      <td>...</td>\n",
       "      <td>0.000000</td>\n",
       "      <td>0.000000</td>\n",
       "      <td>0.000000</td>\n",
       "      <td>0.000000</td>\n",
       "      <td>0.000000</td>\n",
       "      <td>0.000000</td>\n",
       "      <td>0.000000</td>\n",
       "      <td>0.000000</td>\n",
       "      <td>0.000000</td>\n",
       "      <td>0.000000</td>\n",
       "    </tr>\n",
       "    <tr>\n",
       "      <th>25%</th>\n",
       "      <td>86.042418</td>\n",
       "      <td>77.234864</td>\n",
       "      <td>0.000000</td>\n",
       "      <td>1.000000</td>\n",
       "      <td>1.000000</td>\n",
       "      <td>0.000000</td>\n",
       "      <td>2.000000</td>\n",
       "      <td>1.000000</td>\n",
       "      <td>1.000000</td>\n",
       "      <td>95.000000</td>\n",
       "      <td>...</td>\n",
       "      <td>0.000000</td>\n",
       "      <td>0.000000</td>\n",
       "      <td>0.000000</td>\n",
       "      <td>0.000000</td>\n",
       "      <td>0.000000</td>\n",
       "      <td>0.000000</td>\n",
       "      <td>0.000000</td>\n",
       "      <td>0.000000</td>\n",
       "      <td>0.000000</td>\n",
       "      <td>0.000000</td>\n",
       "    </tr>\n",
       "    <tr>\n",
       "      <th>50%</th>\n",
       "      <td>86.042418</td>\n",
       "      <td>77.234864</td>\n",
       "      <td>0.000000</td>\n",
       "      <td>1.000000</td>\n",
       "      <td>1.000000</td>\n",
       "      <td>1.000000</td>\n",
       "      <td>2.000000</td>\n",
       "      <td>1.000000</td>\n",
       "      <td>1.000000</td>\n",
       "      <td>130.000000</td>\n",
       "      <td>...</td>\n",
       "      <td>0.000000</td>\n",
       "      <td>0.000000</td>\n",
       "      <td>0.000000</td>\n",
       "      <td>0.000000</td>\n",
       "      <td>0.000000</td>\n",
       "      <td>0.000000</td>\n",
       "      <td>0.000000</td>\n",
       "      <td>0.000000</td>\n",
       "      <td>0.000000</td>\n",
       "      <td>0.000000</td>\n",
       "    </tr>\n",
       "    <tr>\n",
       "      <th>75%</th>\n",
       "      <td>86.042418</td>\n",
       "      <td>94.000000</td>\n",
       "      <td>0.000000</td>\n",
       "      <td>1.000000</td>\n",
       "      <td>1.000000</td>\n",
       "      <td>1.000000</td>\n",
       "      <td>4.000000</td>\n",
       "      <td>2.000000</td>\n",
       "      <td>2.000000</td>\n",
       "      <td>180.000000</td>\n",
       "      <td>...</td>\n",
       "      <td>0.000000</td>\n",
       "      <td>0.000000</td>\n",
       "      <td>0.000000</td>\n",
       "      <td>0.000000</td>\n",
       "      <td>0.000000</td>\n",
       "      <td>0.000000</td>\n",
       "      <td>0.000000</td>\n",
       "      <td>0.000000</td>\n",
       "      <td>0.000000</td>\n",
       "      <td>0.000000</td>\n",
       "    </tr>\n",
       "    <tr>\n",
       "      <th>max</th>\n",
       "      <td>100.000000</td>\n",
       "      <td>100.000000</td>\n",
       "      <td>1.000000</td>\n",
       "      <td>567.000000</td>\n",
       "      <td>567.000000</td>\n",
       "      <td>1.000000</td>\n",
       "      <td>16.000000</td>\n",
       "      <td>30.000000</td>\n",
       "      <td>33.000000</td>\n",
       "      <td>8000.000000</td>\n",
       "      <td>...</td>\n",
       "      <td>1.000000</td>\n",
       "      <td>1.000000</td>\n",
       "      <td>1.000000</td>\n",
       "      <td>1.000000</td>\n",
       "      <td>1.000000</td>\n",
       "      <td>1.000000</td>\n",
       "      <td>1.000000</td>\n",
       "      <td>1.000000</td>\n",
       "      <td>1.000000</td>\n",
       "      <td>1.000000</td>\n",
       "    </tr>\n",
       "  </tbody>\n",
       "</table>\n",
       "<p>8 rows × 89 columns</p>\n",
       "</div>"
      ],
      "text/plain": [
       "       host_response_rate  host_acceptance_rate  host_is_superhost  \\\n",
       "count        14725.000000          14725.000000       14725.000000   \n",
       "mean            86.184436             77.240556           0.145671   \n",
       "std             13.150940             22.158632           0.352788   \n",
       "min              0.000000              0.000000           0.000000   \n",
       "25%             86.042418             77.234864           0.000000   \n",
       "50%             86.042418             77.234864           0.000000   \n",
       "75%             86.042418             94.000000           0.000000   \n",
       "max            100.000000            100.000000           1.000000   \n",
       "\n",
       "       host_listings_count  host_total_listings_count  host_identity_verified  \\\n",
       "count         14725.000000               14725.000000            14725.000000   \n",
       "mean              2.732360                   2.732360                0.674092   \n",
       "std              12.415031                  12.415031                0.468729   \n",
       "min               0.000000                   0.000000                0.000000   \n",
       "25%               1.000000                   1.000000                0.000000   \n",
       "50%               1.000000                   1.000000                1.000000   \n",
       "75%               1.000000                   1.000000                1.000000   \n",
       "max             567.000000                 567.000000                1.000000   \n",
       "\n",
       "       accommodates      bedrooms          beds         price  ...  \\\n",
       "count  14725.000000  14725.000000  14725.000000  14725.000000  ...   \n",
       "mean       2.866961      1.523871      1.788048    153.195789  ...   \n",
       "std        1.260554      0.878787      1.445738    152.207041  ...   \n",
       "min        1.000000      1.000000      0.000000      4.000000  ...   \n",
       "25%        2.000000      1.000000      1.000000     95.000000  ...   \n",
       "50%        2.000000      1.000000      1.000000    130.000000  ...   \n",
       "75%        4.000000      2.000000      2.000000    180.000000  ...   \n",
       "max       16.000000     30.000000     33.000000   8000.000000  ...   \n",
       "\n",
       "       bathrooms_4 baths  bathrooms_4 shared baths  bathrooms_4.5 baths  \\\n",
       "count       14725.000000              14725.000000         14725.000000   \n",
       "mean            0.000407                  0.000272             0.000136   \n",
       "std             0.020182                  0.016480             0.011654   \n",
       "min             0.000000                  0.000000             0.000000   \n",
       "25%             0.000000                  0.000000             0.000000   \n",
       "50%             0.000000                  0.000000             0.000000   \n",
       "75%             0.000000                  0.000000             0.000000   \n",
       "max             1.000000                  1.000000             1.000000   \n",
       "\n",
       "       bathrooms_5 baths  bathrooms_5.5 baths  bathrooms_6 baths  \\\n",
       "count       14725.000000         14725.000000       14725.000000   \n",
       "mean            0.000136             0.000068           0.000136   \n",
       "std             0.011654             0.008241           0.011654   \n",
       "min             0.000000             0.000000           0.000000   \n",
       "25%             0.000000             0.000000           0.000000   \n",
       "50%             0.000000             0.000000           0.000000   \n",
       "75%             0.000000             0.000000           0.000000   \n",
       "max             1.000000             1.000000           1.000000   \n",
       "\n",
       "       bathrooms_8 baths  bathrooms_Half-bath  bathrooms_Private half-bath  \\\n",
       "count       14725.000000         14725.000000                 14725.000000   \n",
       "mean            0.000068             0.001834                     0.000475   \n",
       "std             0.008241             0.042783                     0.021799   \n",
       "min             0.000000             0.000000                     0.000000   \n",
       "25%             0.000000             0.000000                     0.000000   \n",
       "50%             0.000000             0.000000                     0.000000   \n",
       "75%             0.000000             0.000000                     0.000000   \n",
       "max             1.000000             1.000000                     1.000000   \n",
       "\n",
       "       bathrooms_Shared half-bath  \n",
       "count                14725.000000  \n",
       "mean                     0.002037  \n",
       "std                      0.045093  \n",
       "min                      0.000000  \n",
       "25%                      0.000000  \n",
       "50%                      0.000000  \n",
       "75%                      0.000000  \n",
       "max                      1.000000  \n",
       "\n",
       "[8 rows x 89 columns]"
      ]
     },
     "execution_count": 28,
     "metadata": {},
     "output_type": "execute_result"
    }
   ],
   "source": [
    "df2_dummies.describe()"
   ]
  },
  {
   "cell_type": "code",
   "execution_count": 29,
   "id": "modified-booking",
   "metadata": {},
   "outputs": [
    {
     "name": "stdout",
     "output_type": "stream",
     "text": [
      "(14725, 88)\n"
     ]
    }
   ],
   "source": [
    "X = df2_dummies.drop('price', axis = 1)\n",
    "y = df2_dummies['price']\n",
    "print(X.shape)"
   ]
  },
  {
   "cell_type": "code",
   "execution_count": 30,
   "id": "expired-bullet",
   "metadata": {},
   "outputs": [
    {
     "data": {
      "text/plain": [
       "DecisionTreeRegressor(max_depth=15, random_state=0)"
      ]
     },
     "execution_count": 30,
     "metadata": {},
     "output_type": "execute_result"
    }
   ],
   "source": [
    "# import the regressor\n",
    "from sklearn.tree import DecisionTreeRegressor \n",
    "  \n",
    "# create a regressor object\n",
    "regressor = DecisionTreeRegressor(random_state = 0, max_depth = 15) \n",
    "  \n",
    "# fit the regressor with X and Y data\n",
    "regressor.fit(X, y)"
   ]
  },
  {
   "cell_type": "code",
   "execution_count": 31,
   "id": "continental-treasure",
   "metadata": {},
   "outputs": [],
   "source": [
    "df2_dummies['price_pred'] = regressor.predict(X)"
   ]
  },
  {
   "cell_type": "code",
   "execution_count": 32,
   "id": "imposed-marking",
   "metadata": {},
   "outputs": [
    {
     "data": {
      "text/plain": [
       "0.9236964065485312"
      ]
     },
     "execution_count": 32,
     "metadata": {},
     "output_type": "execute_result"
    }
   ],
   "source": [
    "from sklearn.metrics import r2_score\n",
    "r2_score(df2_dummies['price'], df2_dummies['price_pred'])"
   ]
  },
  {
   "cell_type": "code",
   "execution_count": 33,
   "id": "lightweight-michael",
   "metadata": {},
   "outputs": [
    {
     "data": {
      "text/plain": [
       "0.9236964065485312"
      ]
     },
     "execution_count": 33,
     "metadata": {},
     "output_type": "execute_result"
    }
   ],
   "source": [
    "r2_score(df2_dummies['price'], df2_dummies['price_pred'])"
   ]
  },
  {
   "cell_type": "code",
   "execution_count": 34,
   "id": "animated-contrary",
   "metadata": {},
   "outputs": [],
   "source": [
    "from sklearn.model_selection import train_test_split\n",
    "X_train, X_test, y_train, y_test = train_test_split(X, y, test_size=0.33, random_state=42)"
   ]
  },
  {
   "cell_type": "code",
   "execution_count": 35,
   "id": "criminal-digit",
   "metadata": {},
   "outputs": [
    {
     "data": {
      "text/plain": [
       "DecisionTreeRegressor(max_depth=3, random_state=0)"
      ]
     },
     "execution_count": 35,
     "metadata": {},
     "output_type": "execute_result"
    }
   ],
   "source": [
    "regressor = DecisionTreeRegressor(random_state = 0, max_depth = 3) \n",
    "regressor.fit(X_train, y_train)"
   ]
  },
  {
   "cell_type": "code",
   "execution_count": 36,
   "id": "certain-midwest",
   "metadata": {},
   "outputs": [
    {
     "data": {
      "text/plain": [
       "0.20371862153649878"
      ]
     },
     "execution_count": 36,
     "metadata": {},
     "output_type": "execute_result"
    }
   ],
   "source": [
    "y_test_pred = regressor.predict(X_test)\n",
    "r2_score(y_test, y_test_pred)"
   ]
  },
  {
   "cell_type": "code",
   "execution_count": 37,
   "id": "general-separation",
   "metadata": {},
   "outputs": [
    {
     "data": {
      "text/plain": [
       "0.30423711278501997"
      ]
     },
     "execution_count": 37,
     "metadata": {},
     "output_type": "execute_result"
    }
   ],
   "source": [
    "y_train_pred = regressor.predict(X_train)\n",
    "r2_score(y_train, y_train_pred)"
   ]
  },
  {
   "cell_type": "code",
   "execution_count": null,
   "id": "union-wrong",
   "metadata": {},
   "outputs": [],
   "source": []
  },
  {
   "cell_type": "code",
   "execution_count": 38,
   "id": "mysterious-raising",
   "metadata": {},
   "outputs": [],
   "source": [
    "# regressor = DecisionTreeRegressor(random_state = 0, max_depth = 5) \n",
    "# regressor.fit(X_train, y_train)"
   ]
  },
  {
   "cell_type": "code",
   "execution_count": 39,
   "id": "animated-colleague",
   "metadata": {},
   "outputs": [],
   "source": [
    "# y_test_pred = regressor.predict(X_test)\n",
    "# r2_score(y_test, y_test_pred)"
   ]
  },
  {
   "cell_type": "code",
   "execution_count": 40,
   "id": "fleet-member",
   "metadata": {},
   "outputs": [],
   "source": [
    "# y_train_pred = regressor.predict(X_train)\n",
    "# r2_score(y_train, y_train_pred)"
   ]
  },
  {
   "cell_type": "code",
   "execution_count": 41,
   "id": "needed-clinic",
   "metadata": {},
   "outputs": [
    {
     "data": {
      "text/plain": [
       "<matplotlib.collections.PathCollection at 0x7ff4763a59d0>"
      ]
     },
     "execution_count": 41,
     "metadata": {},
     "output_type": "execute_result"
    },
    {
     "data": {
      "image/png": "[encoded data removed]",
      "text/plain": [
       "<Figure size 432x288 with 1 Axes>"
      ]
     },
     "metadata": {
      "needs_background": "light"
     },
     "output_type": "display_data"
    }
   ],
   "source": [
    "import matplotlib.pyplot as plt\n",
    "plt.scatter(y_test, y_test_pred)"
   ]
  },
  {
   "cell_type": "code",
   "execution_count": 42,
   "id": "appropriate-christian",
   "metadata": {},
   "outputs": [
    {
     "data": {
      "text/plain": [
       "0.171682999574315"
      ]
     },
     "execution_count": 42,
     "metadata": {},
     "output_type": "execute_result"
    }
   ],
   "source": [
    "from sklearn.linear_model import LinearRegression\n",
    "reg = LinearRegression().fit(X_train, y_train)\n",
    "reg.score(X, y)"
   ]
  },
  {
   "cell_type": "code",
   "execution_count": 43,
   "id": "integrated-childhood",
   "metadata": {},
   "outputs": [],
   "source": [
    "# ! conda install -c conda-forge xgboost\n",
    "# from xgboost import XGBRegressor"
   ]
  },
  {
   "cell_type": "code",
   "execution_count": 44,
   "id": "incorrect-boulder",
   "metadata": {},
   "outputs": [
    {
     "name": "stdout",
     "output_type": "stream",
     "text": [
      "1.3.3\n"
     ]
    }
   ],
   "source": [
    "import xgboost; print(xgboost.__version__)"
   ]
  },
  {
   "cell_type": "code",
   "execution_count": 45,
   "id": "unique-courtesy",
   "metadata": {},
   "outputs": [],
   "source": [
    "from xgboost import XGBRegressor"
   ]
  },
  {
   "cell_type": "code",
   "execution_count": 46,
   "id": "defensive-evaluation",
   "metadata": {},
   "outputs": [],
   "source": [
    "from sklearn.model_selection import cross_val_score"
   ]
  },
  {
   "cell_type": "code",
   "execution_count": 47,
   "id": "cordless-error",
   "metadata": {},
   "outputs": [],
   "source": [
    "scores = cross_val_score(XGBRegressor(), X_train, y_train, scoring='neg_mean_squared_error')"
   ]
  },
  {
   "cell_type": "code",
   "execution_count": 48,
   "id": "interstate-ecology",
   "metadata": {},
   "outputs": [
    {
     "data": {
      "text/plain": [
       "array([-82228.98515995,  -6448.16823252, -10013.35483074, -19639.18792613,\n",
       "       -42070.74151551])"
      ]
     },
     "execution_count": 48,
     "metadata": {},
     "output_type": "execute_result"
    }
   ],
   "source": [
    "scores"
   ]
  },
  {
   "cell_type": "code",
   "execution_count": 49,
   "id": "intensive-merchant",
   "metadata": {},
   "outputs": [],
   "source": [
    "xgb = XGBRegressor().fit(X_train, y_train)"
   ]
  },
  {
   "cell_type": "code",
   "execution_count": 51,
   "id": "smoking-capital",
   "metadata": {},
   "outputs": [
    {
     "data": {
      "text/plain": [
       "0.9457524516832455"
      ]
     },
     "execution_count": 51,
     "metadata": {},
     "output_type": "execute_result"
    }
   ],
   "source": [
    "xgb.score(X_train, y_train)"
   ]
  },
  {
   "cell_type": "code",
   "execution_count": 52,
   "id": "binary-venice",
   "metadata": {},
   "outputs": [
    {
     "data": {
      "text/plain": [
       "-0.3180163565892493"
      ]
     },
     "execution_count": 52,
     "metadata": {},
     "output_type": "execute_result"
    }
   ],
   "source": [
    "y_test_pred = xgb.predict(X_test)\n",
    "r2_score(y_test, y_test_pred)"
   ]
  },
  {
   "cell_type": "code",
   "execution_count": 53,
   "id": "decent-header",
   "metadata": {},
   "outputs": [
    {
     "data": {
      "text/plain": [
       "0.9457524516832455"
      ]
     },
     "execution_count": 53,
     "metadata": {},
     "output_type": "execute_result"
    }
   ],
   "source": [
    "y_train_pred = xgb.predict(X_train)\n",
    "r2_score(y_train, y_train_pred)"
   ]
  },
  {
   "cell_type": "code",
   "execution_count": 55,
   "id": "gross-spine",
   "metadata": {},
   "outputs": [
    {
     "data": {
      "text/plain": [
       "<matplotlib.collections.PathCollection at 0x7ff46c658150>"
      ]
     },
     "execution_count": 55,
     "metadata": {},
     "output_type": "execute_result"
    },
    {
     "data": {
      "image/png": "[encoded data removed]",
      "text/plain": [
       "<Figure size 432x288 with 1 Axes>"
      ]
     },
     "metadata": {
      "needs_background": "light"
     },
     "output_type": "display_data"
    }
   ],
   "source": [
    "import matplotlib.pyplot as plt\n",
    "plt.xlim(0, 4000)\n",
    "plt.scatter(y_test, y_test_pred)"
   ]
  },
  {
   "cell_type": "code",
   "execution_count": 60,
   "id": "unsigned-township",
   "metadata": {},
   "outputs": [
    {
     "data": {
      "text/plain": [
       "Index(['host_response_rate', 'host_acceptance_rate', 'host_is_superhost',\n",
       "       'host_listings_count', 'host_total_listings_count',\n",
       "       'host_identity_verified', 'accommodates', 'bedrooms', 'beds', 'price',\n",
       "       'minimum_nights', 'maximum_nights', 'minimum_minimum_nights',\n",
       "       'maximum_minimum_nights', 'minimum_maximum_nights',\n",
       "       'maximum_maximum_nights', 'minimum_nights_avg_ntm',\n",
       "       'maximum_nights_avg_ntm', 'availability_30', 'availability_60',\n",
       "       'availability_90', 'availability_365', 'number_of_reviews',\n",
       "       'number_of_reviews_ltm', 'number_of_reviews_l30d',\n",
       "       'review_scores_rating', 'review_scores_accuracy',\n",
       "       'review_scores_cleanliness', 'review_scores_checkin',\n",
       "       'review_scores_communication', 'review_scores_location',\n",
       "       'review_scores_value', 'instant_bookable',\n",
       "       'calculated_host_listings_count',\n",
       "       'calculated_host_listings_count_entire_homes',\n",
       "       'calculated_host_listings_count_private_rooms',\n",
       "       'calculated_host_listings_count_shared_rooms', 'reviews_per_month',\n",
       "       'months_active', 'Neighbourhood_Bijlmer-Oost',\n",
       "       'Neighbourhood_Bos en Lommer', 'Neighbourhood_Buitenveldert - Zuidas',\n",
       "       'Neighbourhood_Centrum-Oost', 'Neighbourhood_Centrum-West',\n",
       "       'Neighbourhood_De Aker - Nieuw Sloten',\n",
       "       'Neighbourhood_De Baarsjes - Oud-West',\n",
       "       'Neighbourhood_De Pijp - Rivierenbuurt',\n",
       "       'Neighbourhood_Gaasperdam - Driemond',\n",
       "       'Neighbourhood_Geuzenveld - Slotermeer',\n",
       "       'Neighbourhood_IJburg - Zeeburgereiland', 'Neighbourhood_Noord-Oost',\n",
       "       'Neighbourhood_Noord-West',\n",
       "       'Neighbourhood_Oostelijk Havengebied - Indische Buurt',\n",
       "       'Neighbourhood_Osdorp', 'Neighbourhood_Oud-Noord',\n",
       "       'Neighbourhood_Oud-Oost', 'Neighbourhood_Slotervaart',\n",
       "       'Neighbourhood_Watergraafsmeer', 'Neighbourhood_Westerpark',\n",
       "       'Neighbourhood_Zuid', 'room_type_Hotel room', 'room_type_Private room',\n",
       "       'room_type_Shared room', 'bathrooms_0 shared baths', 'bathrooms_1 bath',\n",
       "       'bathrooms_1 private bath', 'bathrooms_1 shared bath',\n",
       "       'bathrooms_1.5 baths', 'bathrooms_1.5 shared baths',\n",
       "       'bathrooms_12 baths', 'bathrooms_13 baths', 'bathrooms_2 baths',\n",
       "       'bathrooms_2 shared baths', 'bathrooms_2.5 baths',\n",
       "       'bathrooms_2.5 shared baths', 'bathrooms_3 baths',\n",
       "       'bathrooms_3 shared baths', 'bathrooms_3.5 baths',\n",
       "       'bathrooms_3.5 shared baths', 'bathrooms_4 baths',\n",
       "       'bathrooms_4 shared baths', 'bathrooms_4.5 baths', 'bathrooms_5 baths',\n",
       "       'bathrooms_5.5 baths', 'bathrooms_6 baths', 'bathrooms_8 baths',\n",
       "       'bathrooms_Half-bath', 'bathrooms_Private half-bath',\n",
       "       'bathrooms_Shared half-bath', 'price_pred'],\n",
       "      dtype='object')"
      ]
     },
     "execution_count": 60,
     "metadata": {},
     "output_type": "execute_result"
    }
   ],
   "source": [
    "features = list(X.columns)\n",
    "# df2_dummies[features]\n",
    "df2_dummies['price_pred'] = xgb.predict(df2_dummies[features])\n",
    "df2_dummies.columns"
   ]
  },
  {
   "cell_type": "code",
   "execution_count": 70,
   "id": "talented-support",
   "metadata": {},
   "outputs": [
    {
     "data": {
      "text/plain": [
       "<matplotlib.collections.PathCollection at 0x7ff46c6dabd0>"
      ]
     },
     "execution_count": 70,
     "metadata": {},
     "output_type": "execute_result"
    },
    {
     "data": {
      "image/png": "[encoded data removed]",
      "text/plain": [
       "<Figure size 432x288 with 1 Axes>"
      ]
     },
     "metadata": {
      "needs_background": "light"
     },
     "output_type": "display_data"
    }
   ],
   "source": [
    "plt.xlim(0, 10000)\n",
    "plt.ylim(0, 10000)\n",
    "plt.scatter(df2_dummies['price'], df2_dummies['price_pred'])"
   ]
  },
  {
   "cell_type": "code",
   "execution_count": 69,
   "id": "veterinary-drilling",
   "metadata": {},
   "outputs": [
    {
     "data": {
      "text/html": [
       "<div>\n",
       "<style scoped>\n",
       "    .dataframe tbody tr th:only-of-type {\n",
       "        vertical-align: middle;\n",
       "    }\n",
       "\n",
       "    .dataframe tbody tr th {\n",
       "        vertical-align: top;\n",
       "    }\n",
       "\n",
       "    .dataframe thead th {\n",
       "        text-align: right;\n",
       "    }\n",
       "</style>\n",
       "<table border=\"1\" class=\"dataframe\">\n",
       "  <thead>\n",
       "    <tr style=\"text-align: right;\">\n",
       "      <th></th>\n",
       "      <th>price</th>\n",
       "      <th>price_pred</th>\n",
       "    </tr>\n",
       "  </thead>\n",
       "  <tbody>\n",
       "    <tr>\n",
       "      <th>87</th>\n",
       "      <td>8000.0</td>\n",
       "      <td>7964.173340</td>\n",
       "    </tr>\n",
       "    <tr>\n",
       "      <th>4419</th>\n",
       "      <td>7999.0</td>\n",
       "      <td>7208.638184</td>\n",
       "    </tr>\n",
       "    <tr>\n",
       "      <th>8730</th>\n",
       "      <td>94.0</td>\n",
       "      <td>4479.261719</td>\n",
       "    </tr>\n",
       "    <tr>\n",
       "      <th>15385</th>\n",
       "      <td>8000.0</td>\n",
       "      <td>7719.383301</td>\n",
       "    </tr>\n",
       "  </tbody>\n",
       "</table>\n",
       "</div>"
      ],
      "text/plain": [
       "        price   price_pred\n",
       "87     8000.0  7964.173340\n",
       "4419   7999.0  7208.638184\n",
       "8730     94.0  4479.261719\n",
       "15385  8000.0  7719.383301"
      ]
     },
     "execution_count": 69,
     "metadata": {},
     "output_type": "execute_result"
    }
   ],
   "source": [
    "df2_dummies[df2_dummies['price_pred'] > 4000][['price', 'price_pred']]"
   ]
  },
  {
   "cell_type": "code",
   "execution_count": 71,
   "id": "private-willow",
   "metadata": {},
   "outputs": [
    {
     "name": "stdout",
     "output_type": "stream",
     "text": [
      "(14725, 90)\n",
      "(14724, 90)\n"
     ]
    }
   ],
   "source": [
    "print(df2_dummies.shape)\n",
    "df2_dummies_v2 = df2_dummies[~((df2_dummies['price_pred'] > 4000) & (df2_dummies['price'] < 1000))]\n",
    "print(df2_dummies_v2.shape)"
   ]
  },
  {
   "cell_type": "code",
   "execution_count": 72,
   "id": "robust-company",
   "metadata": {},
   "outputs": [
    {
     "name": "stdout",
     "output_type": "stream",
     "text": [
      "0.756508539861926\n",
      "0.8128828095971843\n"
     ]
    }
   ],
   "source": [
    "print(r2_score(df2_dummies['price'], df2_dummies['price_pred']))\n",
    "print(r2_score(df2_dummies_v2['price'], df2_dummies_v2['price_pred']))"
   ]
  },
  {
   "cell_type": "code",
   "execution_count": 74,
   "id": "domestic-rapid",
   "metadata": {},
   "outputs": [
    {
     "data": {
      "text/html": [
       "<div>\n",
       "<style scoped>\n",
       "    .dataframe tbody tr th:only-of-type {\n",
       "        vertical-align: middle;\n",
       "    }\n",
       "\n",
       "    .dataframe tbody tr th {\n",
       "        vertical-align: top;\n",
       "    }\n",
       "\n",
       "    .dataframe thead th {\n",
       "        text-align: right;\n",
       "    }\n",
       "</style>\n",
       "<table border=\"1\" class=\"dataframe\">\n",
       "  <thead>\n",
       "    <tr style=\"text-align: right;\">\n",
       "      <th></th>\n",
       "      <th>price</th>\n",
       "      <th>price_pred</th>\n",
       "      <th>error</th>\n",
       "    </tr>\n",
       "  </thead>\n",
       "  <tbody>\n",
       "    <tr>\n",
       "      <th>count</th>\n",
       "      <td>14725.000000</td>\n",
       "      <td>14725.000000</td>\n",
       "      <td>14725.000000</td>\n",
       "    </tr>\n",
       "    <tr>\n",
       "      <th>mean</th>\n",
       "      <td>153.195789</td>\n",
       "      <td>154.575256</td>\n",
       "      <td>10.885397</td>\n",
       "    </tr>\n",
       "    <tr>\n",
       "      <th>std</th>\n",
       "      <td>152.207041</td>\n",
       "      <td>144.002670</td>\n",
       "      <td>75.212354</td>\n",
       "    </tr>\n",
       "    <tr>\n",
       "      <th>min</th>\n",
       "      <td>4.000000</td>\n",
       "      <td>-57.860287</td>\n",
       "      <td>-165.011749</td>\n",
       "    </tr>\n",
       "    <tr>\n",
       "      <th>25%</th>\n",
       "      <td>95.000000</td>\n",
       "      <td>108.463745</td>\n",
       "      <td>-12.228387</td>\n",
       "    </tr>\n",
       "    <tr>\n",
       "      <th>50%</th>\n",
       "      <td>130.000000</td>\n",
       "      <td>137.515015</td>\n",
       "      <td>3.167973</td>\n",
       "    </tr>\n",
       "    <tr>\n",
       "      <th>75%</th>\n",
       "      <td>180.000000</td>\n",
       "      <td>179.710007</td>\n",
       "      <td>23.367965</td>\n",
       "    </tr>\n",
       "    <tr>\n",
       "      <th>max</th>\n",
       "      <td>8000.000000</td>\n",
       "      <td>7964.173340</td>\n",
       "      <td>4707.473145</td>\n",
       "    </tr>\n",
       "  </tbody>\n",
       "</table>\n",
       "</div>"
      ],
      "text/plain": [
       "              price    price_pred         error\n",
       "count  14725.000000  14725.000000  14725.000000\n",
       "mean     153.195789    154.575256     10.885397\n",
       "std      152.207041    144.002670     75.212354\n",
       "min        4.000000    -57.860287   -165.011749\n",
       "25%       95.000000    108.463745    -12.228387\n",
       "50%      130.000000    137.515015      3.167973\n",
       "75%      180.000000    179.710007     23.367965\n",
       "max     8000.000000   7964.173340   4707.473145"
      ]
     },
     "execution_count": 74,
     "metadata": {},
     "output_type": "execute_result"
    }
   ],
   "source": [
    "df2_dummies['error'] = 100 * (df2_dummies['price_pred']/df2_dummies['price'] - 1)\n",
    "df2_dummies[['price', 'price_pred', 'error']].describe()"
   ]
  },
  {
   "cell_type": "code",
   "execution_count": 76,
   "id": "ranging-increase",
   "metadata": {},
   "outputs": [
    {
     "data": {
      "text/plain": [
       "<AxesSubplot:>"
      ]
     },
     "execution_count": 76,
     "metadata": {},
     "output_type": "execute_result"
    },
    {
     "data": {
      "image/png": "[encoded data removed]",
      "text/plain": [
       "<Figure size 432x288 with 1 Axes>"
      ]
     },
     "metadata": {
      "needs_background": "light"
     },
     "output_type": "display_data"
    }
   ],
   "source": [
    "df2_dummies['error'].hist(bins = 100)\n",
    "# it seems that the model might be predicting reasonably well for most observations"
   ]
  },
  {
   "cell_type": "code",
   "execution_count": 80,
   "id": "international-peace",
   "metadata": {},
   "outputs": [
    {
     "name": "stdout",
     "output_type": "stream",
     "text": [
      "3 5 7 9 "
     ]
    }
   ],
   "source": [
    "for i in range(3, 10, 2):\n",
    "    print(i, end =\" \")"
   ]
  },
  {
   "cell_type": "code",
   "execution_count": 84,
   "id": "tough-target",
   "metadata": {},
   "outputs": [
    {
     "name": "stdout",
     "output_type": "stream",
     "text": [
      "-26.207591072273534\n",
      "-16.288276507059734\n",
      "-8.647755673057155\n",
      "-2.699248882902765\n",
      "3.1679732076237643\n",
      "9.725394364899275\n",
      "18.06860758463541\n",
      "29.61054890950522\n",
      "49.58882446289064\n"
     ]
    }
   ],
   "source": [
    "for i in range(1, 10, 1):\n",
    "#     print(i/10)\n",
    "    print(df2_dummies['error'].quantile(q=i/10))"
   ]
  },
  {
   "cell_type": "code",
   "execution_count": null,
   "id": "extra-windows",
   "metadata": {},
   "outputs": [],
   "source": []
  }
 ],
 "metadata": {
  "kernelspec": {
   "display_name": "Python [conda env:root] *",
   "language": "python",
   "name": "conda-root-py"
  },
  "language_info": {
   "codemirror_mode": {
    "name": "ipython",
    "version": 3
   },
   "file_extension": ".py",
   "mimetype": "text/x-python",
   "name": "python",
   "nbconvert_exporter": "python",
   "pygments_lexer": "ipython3",
   "version": "3.7.10"
  }
 },
 "nbformat": 4,
 "nbformat_minor": 5
}

{
 "cells": [
  {
   "cell_type": "code",
   "execution_count": 129,
   "id": "incorporate-gasoline",
   "metadata": {},
   "outputs": [],
   "source": [
    "import numpy as np\n",
    "import pandas as pd"
   ]
  },
  {
   "cell_type": "code",
   "execution_count": 130,
   "id": "consecutive-wagner",
   "metadata": {},
   "outputs": [],
   "source": [
    "df = pd.read_csv('listings.csv.gz')"
   ]
  },
  {
   "cell_type": "code",
   "execution_count": 131,
   "id": "successful-wellington",
   "metadata": {},
   "outputs": [],
   "source": [
    "df2 = df.copy()"
   ]
  },
  {
   "cell_type": "code",
   "execution_count": 132,
   "id": "adolescent-preparation",
   "metadata": {},
   "outputs": [],
   "source": [
    "df_numeric = df.select_dtypes(include=['float64'])\n",
    "\n",
    "df_string = df.select_dtypes(include=['object'])\n",
    "\n",
    "df_int = df.select_dtypes(include=['int'])"
   ]
  },
  {
   "cell_type": "code",
   "execution_count": 133,
   "id": "transsexual-scoop",
   "metadata": {},
   "outputs": [
    {
     "data": {
      "text/html": [
       "<div>\n",
       "<style scoped>\n",
       "    .dataframe tbody tr th:only-of-type {\n",
       "        vertical-align: middle;\n",
       "    }\n",
       "\n",
       "    .dataframe tbody tr th {\n",
       "        vertical-align: top;\n",
       "    }\n",
       "\n",
       "    .dataframe thead th {\n",
       "        text-align: right;\n",
       "    }\n",
       "</style>\n",
       "<table border=\"1\" class=\"dataframe\">\n",
       "  <thead>\n",
       "    <tr style=\"text-align: right;\">\n",
       "      <th></th>\n",
       "      <th>host_since</th>\n",
       "      <th>host_location</th>\n",
       "      <th>host_response_rate</th>\n",
       "      <th>host_acceptance_rate</th>\n",
       "      <th>host_is_superhost</th>\n",
       "      <th>host_identity_verified</th>\n",
       "      <th>neighbourhood</th>\n",
       "      <th>neighbourhood_cleansed</th>\n",
       "      <th>property_type</th>\n",
       "      <th>room_type</th>\n",
       "      <th>bathrooms_text</th>\n",
       "      <th>instant_bookable</th>\n",
       "      <th>last_review</th>\n",
       "    </tr>\n",
       "  </thead>\n",
       "  <tbody>\n",
       "    <tr>\n",
       "      <th>count</th>\n",
       "      <td>18228</td>\n",
       "      <td>18199</td>\n",
       "      <td>3937</td>\n",
       "      <td>7796</td>\n",
       "      <td>18228</td>\n",
       "      <td>18228</td>\n",
       "      <td>12023</td>\n",
       "      <td>18291</td>\n",
       "      <td>18291</td>\n",
       "      <td>18291</td>\n",
       "      <td>18269</td>\n",
       "      <td>18291</td>\n",
       "      <td>15902</td>\n",
       "    </tr>\n",
       "    <tr>\n",
       "      <th>unique</th>\n",
       "      <td>3268</td>\n",
       "      <td>534</td>\n",
       "      <td>50</td>\n",
       "      <td>89</td>\n",
       "      <td>2</td>\n",
       "      <td>2</td>\n",
       "      <td>67</td>\n",
       "      <td>22</td>\n",
       "      <td>65</td>\n",
       "      <td>4</td>\n",
       "      <td>27</td>\n",
       "      <td>2</td>\n",
       "      <td>1833</td>\n",
       "    </tr>\n",
       "    <tr>\n",
       "      <th>top</th>\n",
       "      <td>2016-04-05</td>\n",
       "      <td>Amsterdam, North Holland, Netherlands</td>\n",
       "      <td>100%</td>\n",
       "      <td>100%</td>\n",
       "      <td>f</td>\n",
       "      <td>t</td>\n",
       "      <td>Amsterdam, Noord-Holland, Netherlands</td>\n",
       "      <td>De Baarsjes - Oud-West</td>\n",
       "      <td>Entire apartment</td>\n",
       "      <td>Entire home/apt</td>\n",
       "      <td>1 bath</td>\n",
       "      <td>f</td>\n",
       "      <td>2020-01-02</td>\n",
       "    </tr>\n",
       "    <tr>\n",
       "      <th>freq</th>\n",
       "      <td>88</td>\n",
       "      <td>10046</td>\n",
       "      <td>2794</td>\n",
       "      <td>3638</td>\n",
       "      <td>15849</td>\n",
       "      <td>11918</td>\n",
       "      <td>9534</td>\n",
       "      <td>3044</td>\n",
       "      <td>11393</td>\n",
       "      <td>14283</td>\n",
       "      <td>10677</td>\n",
       "      <td>13914</td>\n",
       "      <td>259</td>\n",
       "    </tr>\n",
       "  </tbody>\n",
       "</table>\n",
       "</div>"
      ],
      "text/plain": [
       "        host_since                          host_location host_response_rate  \\\n",
       "count        18228                                  18199               3937   \n",
       "unique        3268                                    534                 50   \n",
       "top     2016-04-05  Amsterdam, North Holland, Netherlands               100%   \n",
       "freq            88                                  10046               2794   \n",
       "\n",
       "       host_acceptance_rate host_is_superhost host_identity_verified  \\\n",
       "count                  7796             18228                  18228   \n",
       "unique                   89                 2                      2   \n",
       "top                    100%                 f                      t   \n",
       "freq                   3638             15849                  11918   \n",
       "\n",
       "                                neighbourhood  neighbourhood_cleansed  \\\n",
       "count                                   12023                   18291   \n",
       "unique                                     67                      22   \n",
       "top     Amsterdam, Noord-Holland, Netherlands  De Baarsjes - Oud-West   \n",
       "freq                                     9534                    3044   \n",
       "\n",
       "           property_type        room_type bathrooms_text instant_bookable  \\\n",
       "count              18291            18291          18269            18291   \n",
       "unique                65                4             27                2   \n",
       "top     Entire apartment  Entire home/apt         1 bath                f   \n",
       "freq               11393            14283          10677            13914   \n",
       "\n",
       "       last_review  \n",
       "count        15902  \n",
       "unique        1833  \n",
       "top     2020-01-02  \n",
       "freq           259  "
      ]
     },
     "execution_count": 133,
     "metadata": {},
     "output_type": "execute_result"
    }
   ],
   "source": [
    "df_string[potential_important_string].describe()"
   ]
  },
  {
   "cell_type": "code",
   "execution_count": 134,
   "id": "specialized-framework",
   "metadata": {},
   "outputs": [],
   "source": [
    "drop_list = ['neighbourhood_group_cleansed', 'bathrooms', 'calendar_updated', 'license', 'latitude', 'longitude', 'id',\\\n",
    "             'scrape_id', 'host_id']"
   ]
  },
  {
   "cell_type": "code",
   "execution_count": 135,
   "id": "welsh-display",
   "metadata": {},
   "outputs": [
    {
     "data": {
      "text/plain": [
       "(18291, 65)"
      ]
     },
     "execution_count": 135,
     "metadata": {},
     "output_type": "execute_result"
    }
   ],
   "source": [
    "df2.drop(columns = drop_list, axis = 1, inplace = True)\n",
    "df2.shape"
   ]
  },
  {
   "cell_type": "code",
   "execution_count": 136,
   "id": "developing-penny",
   "metadata": {},
   "outputs": [],
   "source": [
    "potential_important_string = ['host_since', 'host_location', 'host_response_rate', 'host_acceptance_rate', 'host_is_superhost',\\\n",
    "                             'host_identity_verified', 'neighbourhood', 'neighbourhood_cleansed',\\\n",
    "                             'property_type', 'room_type', 'bathrooms_text', 'instant_bookable', 'last_review']"
   ]
  },
  {
   "cell_type": "code",
   "execution_count": 137,
   "id": "integral-blowing",
   "metadata": {},
   "outputs": [],
   "source": [
    "df2.dropna(subset = ['host_since', 'host_is_superhost', 'host_identity_verified'], inplace = True)"
   ]
  },
  {
   "cell_type": "code",
   "execution_count": 138,
   "id": "sapphire-effect",
   "metadata": {},
   "outputs": [],
   "source": [
    "# cleaning and engineering host_since\n",
    "df2['host_since'] = pd.to_datetime(df2['host_since'])\n",
    "df2['months_active'] = (dt.datetime.today() - df2['host_since'])/np.timedelta64(1, 'M')\n",
    "df2['months_active'] = df2['months_active'].astype(int)"
   ]
  },
  {
   "cell_type": "code",
   "execution_count": 139,
   "id": "married-grace",
   "metadata": {},
   "outputs": [
    {
     "data": {
      "text/plain": [
       "Amsterdam, North Holland, Netherlands           10046\n",
       "Amsterdam, North Holland, The Netherlands        3515\n",
       "NL                                               1549\n",
       "Amsterdam, Noord-Holland, The Netherlands        1153\n",
       "Netherlands                                       520\n",
       "                                                ...  \n",
       "Rio de Janeiro, Rio de Janeiro, Brazil              1\n",
       "Pretoria, Gauteng, South Africa                     1\n",
       "Beverwijk, North Holland, The Netherlands           1\n",
       "Newcastle upon Tyne, England, United Kingdom        1\n",
       "De Goorn, North Holland, The Netherlands            1\n",
       "Name: host_location, Length: 534, dtype: int64"
      ]
     },
     "execution_count": 139,
     "metadata": {},
     "output_type": "execute_result"
    }
   ],
   "source": [
    "df2['host_location'].value_counts()\n",
    "# too many entries to clean, ignore for now"
   ]
  },
  {
   "cell_type": "code",
   "execution_count": 140,
   "id": "artistic-romantic",
   "metadata": {},
   "outputs": [
    {
     "name": "stdout",
     "output_type": "stream",
     "text": [
      "count    3937.000000\n",
      "mean       86.042418\n",
      "std        28.633557\n",
      "min         0.000000\n",
      "25%        89.000000\n",
      "50%       100.000000\n",
      "75%       100.000000\n",
      "max       100.000000\n",
      "Name: host_response_rate, dtype: float64\n"
     ]
    }
   ],
   "source": [
    "df2['host_response_rate'] = df2['host_response_rate'].str.replace('%','')\n",
    "df2['host_response_rate'] = pd.to_numeric(df2['host_response_rate'])\n",
    "print(df2['host_response_rate'].describe())\n",
    "# Given most of the values being missing, we will replace missing values with mean\n",
    "df2['host_response_rate'].fillna(df2['host_response_rate'].mean(), inplace = True)\n",
    "# print(df2['host_response_rate'].describe())"
   ]
  },
  {
   "cell_type": "code",
   "execution_count": 141,
   "id": "exciting-breathing",
   "metadata": {},
   "outputs": [
    {
     "name": "stdout",
     "output_type": "stream",
     "text": [
      "count    7796.000000\n",
      "mean       77.234864\n",
      "std        33.575089\n",
      "min         0.000000\n",
      "25%        63.000000\n",
      "50%        98.000000\n",
      "75%       100.000000\n",
      "max       100.000000\n",
      "Name: host_acceptance_rate, dtype: float64\n",
      "count    18228.000000\n",
      "mean        77.234864\n",
      "std         21.956729\n",
      "min          0.000000\n",
      "25%         77.234864\n",
      "50%         77.234864\n",
      "75%         93.000000\n",
      "max        100.000000\n",
      "Name: host_acceptance_rate, dtype: float64\n"
     ]
    }
   ],
   "source": [
    "df2['host_acceptance_rate'] = df2['host_acceptance_rate'].str.replace('%','')\n",
    "df2['host_acceptance_rate'] = pd.to_numeric(df2['host_acceptance_rate'])\n",
    "print(df2['host_acceptance_rate'].describe())\n",
    "# Given most of the values being missing, we will replace missing values with mean\n",
    "df2['host_acceptance_rate'].fillna(df2['host_acceptance_rate'].mean(), inplace = True)\n",
    "print(df2['host_acceptance_rate'].describe())"
   ]
  },
  {
   "cell_type": "code",
   "execution_count": 142,
   "id": "architectural-stomach",
   "metadata": {},
   "outputs": [
    {
     "name": "stdout",
     "output_type": "stream",
     "text": [
      "f    15849\n",
      "t     2379\n",
      "Name: host_is_superhost, dtype: int64\n"
     ]
    },
    {
     "data": {
      "text/plain": [
       "0    15849\n",
       "1     2379\n",
       "Name: host_is_superhost, dtype: int64"
      ]
     },
     "execution_count": 142,
     "metadata": {},
     "output_type": "execute_result"
    }
   ],
   "source": [
    "print(df2['host_is_superhost'].value_counts())\n",
    "# only true false values, convert them to 0 and 1 categorical\n",
    "df2['host_is_superhost'].replace({'t': 1, 'f': 0}, inplace = True)\n",
    "df2['host_is_superhost'].value_counts()"
   ]
  },
  {
   "cell_type": "code",
   "execution_count": 145,
   "id": "graduate-boulder",
   "metadata": {},
   "outputs": [
    {
     "name": "stdout",
     "output_type": "stream",
     "text": [
      "t    11918\n",
      "f     6310\n",
      "Name: host_identity_verified, dtype: int64\n"
     ]
    },
    {
     "data": {
      "text/plain": [
       "1    11918\n",
       "0     6310\n",
       "Name: host_identity_verified, dtype: int64"
      ]
     },
     "execution_count": 145,
     "metadata": {},
     "output_type": "execute_result"
    }
   ],
   "source": [
    "print(df2['host_identity_verified'].value_counts())\n",
    "# only true false values, convert them to 0 and 1 categorical\n",
    "df2['host_identity_verified'].replace({'t': 1, 'f': 0}, inplace = True)\n",
    "df2['host_identity_verified'].value_counts()"
   ]
  },
  {
   "cell_type": "code",
   "execution_count": 146,
   "id": "liable-destruction",
   "metadata": {},
   "outputs": [
    {
     "data": {
      "text/plain": [
       "Amsterdam, Noord-Holland, Netherlands             9487\n",
       "Amsterdam, North Holland, Netherlands             1483\n",
       "Amsterdam, NH, Netherlands                         697\n",
       "Amsterdam, Netherlands                             110\n",
       "Amsterdam-Zuidoost, Noord-Holland, Netherlands      57\n",
       "                                                  ... \n",
       "Amsterdam, boord Holland, Netherlands                1\n",
       "1015 SN Amsterdam, Noord-Holland, Netherlands        1\n",
       "Halfweg, NH, Netherlands                             1\n",
       "Amsterdam, AH, Netherlands                           1\n",
       "Duivendrecht, Noord-Holland, Netherlands             1\n",
       "Name: neighbourhood, Length: 67, dtype: int64"
      ]
     },
     "execution_count": 146,
     "metadata": {},
     "output_type": "execute_result"
    }
   ],
   "source": [
    "df2['neighbourhood'].value_counts()\n",
    "# too many values, ignore for now"
   ]
  },
  {
   "cell_type": "code",
   "execution_count": 147,
   "id": "grave-karma",
   "metadata": {},
   "outputs": [
    {
     "data": {
      "text/plain": [
       "De Baarsjes - Oud-West                    3029\n",
       "De Pijp - Rivierenbuurt                   2262\n",
       "Centrum-West                              1994\n",
       "Centrum-Oost                              1554\n",
       "Westerpark                                1392\n",
       "Zuid                                      1306\n",
       "Oud-Oost                                  1177\n",
       "Bos en Lommer                             1042\n",
       "Oostelijk Havengebied - Indische Buurt     869\n",
       "Oud-Noord                                  586\n",
       "Watergraafsmeer                            525\n",
       "IJburg - Zeeburgereiland                   423\n",
       "Slotervaart                                410\n",
       "Noord-West                                 369\n",
       "Noord-Oost                                 254\n",
       "Buitenveldert - Zuidas                     252\n",
       "Geuzenveld - Slotermeer                    214\n",
       "De Aker - Nieuw Sloten                     126\n",
       "Osdorp                                     124\n",
       "Gaasperdam - Driemond                      121\n",
       "Bijlmer-Centrum                            103\n",
       "Bijlmer-Oost                                96\n",
       "Name: neighbourhood_cleansed, dtype: int64"
      ]
     },
     "execution_count": 147,
     "metadata": {},
     "output_type": "execute_result"
    }
   ],
   "source": [
    "df2['neighbourhood_cleansed'].value_counts()\n",
    "# manageable number of values, will do one hot encoding"
   ]
  },
  {
   "cell_type": "code",
   "execution_count": null,
   "id": "listed-complement",
   "metadata": {},
   "outputs": [],
   "source": []
  }
 ],
 "metadata": {
  "kernelspec": {
   "display_name": "Python [conda env:root] *",
   "language": "python",
   "name": "conda-root-py"
  },
  "language_info": {
   "codemirror_mode": {
    "name": "ipython",
    "version": 3
   },
   "file_extension": ".py",
   "mimetype": "text/x-python",
   "name": "python",
   "nbconvert_exporter": "python",
   "pygments_lexer": "ipython3",
   "version": "3.7.10"
  }
 },
 "nbformat": 4,
 "nbformat_minor": 5
}

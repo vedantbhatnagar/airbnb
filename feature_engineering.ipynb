{
 "cells": [
  {
   "cell_type": "code",
   "execution_count": 8,
   "id": "incorporate-gasoline",
   "metadata": {},
   "outputs": [],
   "source": [
    "import numpy as np\n",
    "import pandas as pd"
   ]
  },
  {
   "cell_type": "code",
   "execution_count": 9,
   "id": "consecutive-wagner",
   "metadata": {},
   "outputs": [],
   "source": [
    "df = pd.read_csv('listings.csv.gz')"
   ]
  },
  {
   "cell_type": "code",
   "execution_count": 14,
   "id": "successful-wellington",
   "metadata": {},
   "outputs": [],
   "source": [
    "df2 = df.copy()"
   ]
  },
  {
   "cell_type": "code",
   "execution_count": 15,
   "id": "adolescent-preparation",
   "metadata": {},
   "outputs": [],
   "source": [
    "df_numeric = df.select_dtypes(include=['float64'])\n",
    "\n",
    "df_string = df.select_dtypes(include=['object'])\n",
    "\n",
    "df_int = df.select_dtypes(include=['int'])"
   ]
  },
  {
   "cell_type": "code",
   "execution_count": 17,
   "id": "specialized-framework",
   "metadata": {},
   "outputs": [],
   "source": [
    "drop_list = ['neighbourhood_group_cleansed', 'bathrooms', 'calendar_updated', 'license', 'latitude', 'longitude', 'id',\\\n",
    "             'scrape_id', 'host_id']"
   ]
  },
  {
   "cell_type": "code",
   "execution_count": 18,
   "id": "welsh-display",
   "metadata": {},
   "outputs": [],
   "source": [
    "df2.drop(columns = drop_list, axis = 1, inplace = True)"
   ]
  },
  {
   "cell_type": "code",
   "execution_count": 20,
   "id": "developing-penny",
   "metadata": {},
   "outputs": [],
   "source": [
    "potential_important_string = ['host_since', 'host_location', 'host_response_rate', 'host_acceptance_rate', 'host_is_superhost',\\\n",
    "                             'host_identity_verified', 'neighbourhood', 'neighbourhood_cleansed',\\\n",
    "                             'property_type', 'room_type', 'bathrooms_text', 'instant_bookable', 'last_review']"
   ]
  },
  {
   "cell_type": "code",
   "execution_count": 22,
   "id": "sapphire-effect",
   "metadata": {},
   "outputs": [
    {
     "data": {
      "text/plain": [
       "2016-04-05    88\n",
       "2011-12-02    86\n",
       "2013-07-19    48\n",
       "2014-04-29    45\n",
       "2015-07-21    34\n",
       "              ..\n",
       "2020-07-15     1\n",
       "2020-03-10     1\n",
       "2018-12-28     1\n",
       "2010-10-10     1\n",
       "2019-08-14     1\n",
       "Name: host_since, Length: 3268, dtype: int64"
      ]
     },
     "execution_count": 22,
     "metadata": {},
     "output_type": "execute_result"
    }
   ],
   "source": [
    "df2['host_since'] = pd.to_datetime(df2['host_since'])\n",
    "df_test['Difference'] = (df_test['First_Date'] - df_test['Second Date']).dt.days"
   ]
  },
  {
   "cell_type": "code",
   "execution_count": null,
   "id": "solved-cylinder",
   "metadata": {},
   "outputs": [],
   "source": []
  }
 ],
 "metadata": {
  "kernelspec": {
   "display_name": "Python [conda env:root] *",
   "language": "python",
   "name": "conda-root-py"
  },
  "language_info": {
   "codemirror_mode": {
    "name": "ipython",
    "version": 3
   },
   "file_extension": ".py",
   "mimetype": "text/x-python",
   "name": "python",
   "nbconvert_exporter": "python",
   "pygments_lexer": "ipython3",
   "version": "3.7.10"
  }
 },
 "nbformat": 4,
 "nbformat_minor": 5
}
